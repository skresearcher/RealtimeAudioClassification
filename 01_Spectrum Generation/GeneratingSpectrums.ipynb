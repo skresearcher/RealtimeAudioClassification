{
 "cells": [
  {
   "cell_type": "markdown",
   "metadata": {},
   "source": [
    "The following cell loads in all the libraries that we previously installed; this makes it so that we can access the functions in these libraries instead of having to code these capabilities from scratch."
   ]
  },
  {
   "cell_type": "code",
   "execution_count": 7,
   "metadata": {},
   "outputs": [],
   "source": [
    "import csv\n",
    "import cv2\n",
    "import numpy as np\n",
    "import librosa\n",
    "import librosa.display\n",
    "import wave\n",
    "import os\n",
    "import matplotlib.pyplot as plt\n",
    "import multiprocessing \n",
    "import pickle"
   ]
  },
  {
   "cell_type": "markdown",
   "metadata": {},
   "source": [
    "The next cell defines the folder paths to both the source folder where the audio is stored and the folder where the generated images should go."
   ]
  },
  {
   "cell_type": "code",
   "execution_count": 8,
   "metadata": {},
   "outputs": [],
   "source": [
    "SOURCE_FOLDER_TRAIN= '../AudioData/UrbanSound'\n",
    "OUTPUT_FOLDER_TRAIN = '../GeneratedData/UrbanSound'"
   ]
  },
  {
   "cell_type": "markdown",
   "metadata": {},
   "source": [
    "The following cell defines the filename where the Spectrum Variables should be read from. This will load in a file that tells this script how to compute the spectrogram."
   ]
  },
  {
   "cell_type": "code",
   "execution_count": 9,
   "metadata": {},
   "outputs": [
    {
     "name": "stdout",
     "output_type": "stream",
     "text": [
      "Please type filename without the file ending here => \n"
     ]
    },
    {
     "ename": "FileNotFoundError",
     "evalue": "[Errno 2] No such file or directory: '.SpecVar'",
     "output_type": "error",
     "traceback": [
      "\u001b[0;31m---------------------------------------------------------------------------\u001b[0m",
      "\u001b[0;31mFileNotFoundError\u001b[0m                         Traceback (most recent call last)",
      "\u001b[0;32m<ipython-input-9-461a59061219>\u001b[0m in \u001b[0;36m<module>\u001b[0;34m\u001b[0m\n\u001b[1;32m      1\u001b[0m \u001b[0;31m#Loading in the Spectrogram variables\u001b[0m\u001b[0;34m\u001b[0m\u001b[0;34m\u001b[0m\u001b[0;34m\u001b[0m\u001b[0m\n\u001b[1;32m      2\u001b[0m \u001b[0mFileName\u001b[0m \u001b[0;34m=\u001b[0m\u001b[0minput\u001b[0m\u001b[0;34m(\u001b[0m\u001b[0;34m\"Please type filename without the file ending here => \"\u001b[0m\u001b[0;34m)\u001b[0m\u001b[0;34m\u001b[0m\u001b[0;34m\u001b[0m\u001b[0m\n\u001b[0;32m----> 3\u001b[0;31m \u001b[0mSpectrumVariables\u001b[0m \u001b[0;34m=\u001b[0m \u001b[0mpickle\u001b[0m\u001b[0;34m.\u001b[0m\u001b[0mload\u001b[0m\u001b[0;34m(\u001b[0m\u001b[0mopen\u001b[0m\u001b[0;34m(\u001b[0m \u001b[0mFileName\u001b[0m\u001b[0;34m+\u001b[0m\u001b[0;34m'.SpecVar'\u001b[0m\u001b[0;34m,\u001b[0m \u001b[0;34m\"rb\"\u001b[0m \u001b[0;34m)\u001b[0m \u001b[0;34m)\u001b[0m\u001b[0;34m\u001b[0m\u001b[0;34m\u001b[0m\u001b[0m\n\u001b[0m\u001b[1;32m      4\u001b[0m \u001b[0mSpectrumVariables\u001b[0m\u001b[0;34m\u001b[0m\u001b[0;34m\u001b[0m\u001b[0m\n",
      "\u001b[0;31mFileNotFoundError\u001b[0m: [Errno 2] No such file or directory: '.SpecVar'"
     ]
    }
   ],
   "source": [
    "#Loading in the Spectrogram variables\n",
    "FileName =input(\"Please type filename without the file ending here => \")\n",
    "SpectrumVariables = pickle.load(open( FileName+'.SpecVar', \"rb\" ) )\n",
    "SpectrumVariables"
   ]
  },
  {
   "cell_type": "markdown",
   "metadata": {},
   "source": [
    "This defines the function that creates logarithmic spectragrams of the audio file designated in the `src_path` into the folder in the `dst_path`."
   ]
  },
  {
   "cell_type": "code",
   "execution_count": 10,
   "metadata": {},
   "outputs": [],
   "source": [
    "def log_mel_spec_tfm(src_path, dst_path):\n",
    "    #print(src_path)\n",
    "    fname=src_path.split('/')[-1];\n",
    "    x=[]\n",
    "    sample_rate=0\n",
    "    try:\n",
    "        channels ,sample_rate_in = librosa.load(src_path,mono=False)\n",
    "    except:\n",
    "        print(fname+\" Could not be computed!\")\n",
    "        return\n",
    "    if(channels.ndim==1):\n",
    "        channels= channels.reshape((1,(len(channels))))\n",
    "    channelcounter=0\n",
    "    for audio_data in channels:\n",
    "        channelcounter+=1\n",
    "        \n",
    "        RESOLUTION=SpectrumVariables[\"RESOLUTION\"] \n",
    "        \n",
    "        N_FFT=SpectrumVariables[\"N_FFT\"]\n",
    "        HOP_LENGTH= SpectrumVariables[\"HOP_LENGTH\"]\n",
    "        FMIN=SpectrumVariables[\"FMIN\"]\n",
    "        FMAX=SpectrumVariables[\"FMAX\"]\n",
    "        N_MELS=SpectrumVariables[\"N_MELS\"]\n",
    "        POWER=SpectrumVariables[\"POWER\"]\n",
    "        #audio_data = librosa.resample(x, sample_rate_in, SAMPLE_RATE)\n",
    "        mel_spec_power = librosa.feature.melspectrogram(audio_data, sr=sample_rate_in, n_fft=N_FFT, \n",
    "                                                        hop_length=HOP_LENGTH, \n",
    "                                                        n_mels=N_MELS, power=POWER,\n",
    "                                                       fmin=FMIN,fmax=FMAX)\n",
    "        mel_spec_db = librosa.power_to_db(mel_spec_power, ref=np.max)\n",
    "        image = mel_spec_db; # convert to float\n",
    "        image -= image.min() # ensure the minimal value is 0.0\n",
    "        image /= image.max() # maximum value in image is now 1.0\n",
    "        image*=256;\n",
    "        img = image.astype(np.uint8)\n",
    "        colorPic = cv2.applyColorMap(img, cv2.COLORMAP_BONE)\n",
    "        #cv2.imshow('dst_rt', colorPic)\n",
    "        #cv2.waitKey(0)\n",
    "        count=0\n",
    "        for i in range(int(np.floor(colorPic.shape[1]/RESOLUTION))):\n",
    "            count+=1\n",
    "            startx=RESOLUTION*i\n",
    "            stopx=RESOLUTION*(i+1)\n",
    "            OutputImage = cv2.resize(colorPic[:,startx:stopx,:],(RESOLUTION,RESOLUTION))\n",
    "            plt.imsave(os.path.join(dst_path,(fname.replace(\".wav\",'-').replace(\".m4a\",'-').replace(\".mp3\",'-') +str(i)+'-ch-'+str(channelcounter)+ '.png')), OutputImage) \n",
    "        if(count==0):\n",
    "            print(src_path)\n",
    "            #print(\"WARNING: => Jumped A file. If you see this often, increas sampleRate or Hop length.\")"
   ]
  },
  {
   "cell_type": "markdown",
   "metadata": {},
   "source": [
    "The following folder is a wrapper function for the previous function, going through all the audio files in `IN_FOLDER`."
   ]
  },
  {
   "cell_type": "code",
   "execution_count": 11,
   "metadata": {},
   "outputs": [],
   "source": [
    "def ComputeSpectrograms(IN_FOLDER,OUT_FOLDER):\n",
    "    print(\"I will print the file path to files that are too short to fit into one full picture.\")\n",
    "    SourceFoldersLabels = [f.path for f in os.scandir(IN_FOLDER) if f.is_dir()]\n",
    "    for path in SourceFoldersLabels:\n",
    "        FileList = [f.path for f in os.scandir(path) if f.is_file() and (f.name.endswith(\".wav\") or f.name.endswith(\".m4a\") or f.name.endswith(\".mp3\"))]\n",
    "        Label = path.split('/')[-1]\n",
    "        outFolder = os.path.join(OUT_FOLDER,Label)\n",
    "        if not os.path.exists(outFolder):\n",
    "            os.makedirs(outFolder)\n",
    "        with multiprocessing.Pool(12) as p:\n",
    "            p.starmap(log_mel_spec_tfm, [(f,outFolder) for f in FileList])\n",
    "        print(\"Finished this class. Going to the next\")\n",
    "    print(\"Done generating spectra!\")  "
   ]
  },
  {
   "cell_type": "markdown",
   "metadata": {},
   "source": [
    "This moves the Spectrum Variables file into the output folder so that we can correspond the images with labels."
   ]
  },
  {
   "cell_type": "code",
   "execution_count": 12,
   "metadata": {},
   "outputs": [
    {
     "name": "stdout",
     "output_type": "stream",
     "text": [
      "I will print the file path to files that are too short to fit into one full picture.\n"
     ]
    },
    {
     "name": "stderr",
     "output_type": "stream",
     "text": [
      "/Library/Frameworks/Python.framework/Versions/3.7/lib/python3.7/site-packages/librosa/filters.py:221: UserWarning: Empty filters detected in mel frequency basis. Some channels will produce empty responses. Try increasing your sampling rate (and fmax) or reducing n_mels.\n",
      "  warnings.warn('Empty filters detected in mel frequency basis. '\n",
      "/Library/Frameworks/Python.framework/Versions/3.7/lib/python3.7/site-packages/librosa/filters.py:221: UserWarning: Empty filters detected in mel frequency basis. Some channels will produce empty responses. Try increasing your sampling rate (and fmax) or reducing n_mels.\n",
      "  warnings.warn('Empty filters detected in mel frequency basis. '\n",
      "/Library/Frameworks/Python.framework/Versions/3.7/lib/python3.7/site-packages/librosa/filters.py:221: UserWarning: Empty filters detected in mel frequency basis. Some channels will produce empty responses. Try increasing your sampling rate (and fmax) or reducing n_mels.\n",
      "  warnings.warn('Empty filters detected in mel frequency basis. '\n"
     ]
    },
    {
     "name": "stdout",
     "output_type": "stream",
     "text": [
      "../AudioData/UrbanSound/siren/98536.wav\n"
     ]
    },
    {
     "name": "stderr",
     "output_type": "stream",
     "text": [
      "/Library/Frameworks/Python.framework/Versions/3.7/lib/python3.7/site-packages/librosa/filters.py:221: UserWarning: Empty filters detected in mel frequency basis. Some channels will produce empty responses. Try increasing your sampling rate (and fmax) or reducing n_mels.\n",
      "  warnings.warn('Empty filters detected in mel frequency basis. '\n",
      "/Library/Frameworks/Python.framework/Versions/3.7/lib/python3.7/site-packages/librosa/filters.py:221: UserWarning: Empty filters detected in mel frequency basis. Some channels will produce empty responses. Try increasing your sampling rate (and fmax) or reducing n_mels.\n",
      "  warnings.warn('Empty filters detected in mel frequency basis. '\n",
      "/Library/Frameworks/Python.framework/Versions/3.7/lib/python3.7/site-packages/librosa/filters.py:221: UserWarning: Empty filters detected in mel frequency basis. Some channels will produce empty responses. Try increasing your sampling rate (and fmax) or reducing n_mels.\n",
      "  warnings.warn('Empty filters detected in mel frequency basis. '\n",
      "/Library/Frameworks/Python.framework/Versions/3.7/lib/python3.7/site-packages/librosa/filters.py:221: UserWarning: Empty filters detected in mel frequency basis. Some channels will produce empty responses. Try increasing your sampling rate (and fmax) or reducing n_mels.\n",
      "  warnings.warn('Empty filters detected in mel frequency basis. '\n",
      "/Library/Frameworks/Python.framework/Versions/3.7/lib/python3.7/site-packages/librosa/filters.py:221: UserWarning: Empty filters detected in mel frequency basis. Some channels will produce empty responses. Try increasing your sampling rate (and fmax) or reducing n_mels.\n",
      "  warnings.warn('Empty filters detected in mel frequency basis. '\n",
      "/Library/Frameworks/Python.framework/Versions/3.7/lib/python3.7/site-packages/librosa/filters.py:221: UserWarning: Empty filters detected in mel frequency basis. Some channels will produce empty responses. Try increasing your sampling rate (and fmax) or reducing n_mels.\n",
      "  warnings.warn('Empty filters detected in mel frequency basis. '\n",
      "/Library/Frameworks/Python.framework/Versions/3.7/lib/python3.7/site-packages/librosa/filters.py:221: UserWarning: Empty filters detected in mel frequency basis. Some channels will produce empty responses. Try increasing your sampling rate (and fmax) or reducing n_mels.\n",
      "  warnings.warn('Empty filters detected in mel frequency basis. '\n",
      "/Library/Frameworks/Python.framework/Versions/3.7/lib/python3.7/site-packages/librosa/filters.py:221: UserWarning: Empty filters detected in mel frequency basis. Some channels will produce empty responses. Try increasing your sampling rate (and fmax) or reducing n_mels.\n",
      "  warnings.warn('Empty filters detected in mel frequency basis. '\n"
     ]
    },
    {
     "name": "stdout",
     "output_type": "stream",
     "text": [
      "../AudioData/UrbanSound/siren/43806.wav\n",
      "../AudioData/UrbanSound/siren/43806.wav\n"
     ]
    },
    {
     "name": "stderr",
     "output_type": "stream",
     "text": [
      "/Library/Frameworks/Python.framework/Versions/3.7/lib/python3.7/site-packages/librosa/filters.py:221: UserWarning: Empty filters detected in mel frequency basis. Some channels will produce empty responses. Try increasing your sampling rate (and fmax) or reducing n_mels.\n",
      "  warnings.warn('Empty filters detected in mel frequency basis. '\n",
      "/Library/Frameworks/Python.framework/Versions/3.7/lib/python3.7/site-packages/librosa/filters.py:221: UserWarning: Empty filters detected in mel frequency basis. Some channels will produce empty responses. Try increasing your sampling rate (and fmax) or reducing n_mels.\n",
      "  warnings.warn('Empty filters detected in mel frequency basis. '\n"
     ]
    },
    {
     "name": "stdout",
     "output_type": "stream",
     "text": [
      "../AudioData/UrbanSound/siren/16772.wav\n",
      "../AudioData/UrbanSound/siren/16772.wav\n",
      "../AudioData/UrbanSound/siren/113160.mp3\n",
      "../AudioData/UrbanSound/siren/113160.mp3\n"
     ]
    },
    {
     "name": "stderr",
     "output_type": "stream",
     "text": [
      "/Library/Frameworks/Python.framework/Versions/3.7/lib/python3.7/site-packages/librosa/filters.py:221: UserWarning: Empty filters detected in mel frequency basis. Some channels will produce empty responses. Try increasing your sampling rate (and fmax) or reducing n_mels.\n",
      "  warnings.warn('Empty filters detected in mel frequency basis. '\n"
     ]
    },
    {
     "name": "stdout",
     "output_type": "stream",
     "text": [
      "../AudioData/UrbanSound/siren/26173.wav\n",
      "../AudioData/UrbanSound/siren/26173.wav\n"
     ]
    },
    {
     "name": "stderr",
     "output_type": "stream",
     "text": [
      "/Library/Frameworks/Python.framework/Versions/3.7/lib/python3.7/site-packages/librosa/filters.py:221: UserWarning: Empty filters detected in mel frequency basis. Some channels will produce empty responses. Try increasing your sampling rate (and fmax) or reducing n_mels.\n",
      "  warnings.warn('Empty filters detected in mel frequency basis. '\n",
      "/Library/Frameworks/Python.framework/Versions/3.7/lib/python3.7/site-packages/librosa/filters.py:221: UserWarning: Empty filters detected in mel frequency basis. Some channels will produce empty responses. Try increasing your sampling rate (and fmax) or reducing n_mels.\n",
      "  warnings.warn('Empty filters detected in mel frequency basis. '\n",
      "/Library/Frameworks/Python.framework/Versions/3.7/lib/python3.7/site-packages/librosa/filters.py:221: UserWarning: Empty filters detected in mel frequency basis. Some channels will produce empty responses. Try increasing your sampling rate (and fmax) or reducing n_mels.\n",
      "  warnings.warn('Empty filters detected in mel frequency basis. '\n",
      "/Library/Frameworks/Python.framework/Versions/3.7/lib/python3.7/site-packages/librosa/filters.py:221: UserWarning: Empty filters detected in mel frequency basis. Some channels will produce empty responses. Try increasing your sampling rate (and fmax) or reducing n_mels.\n",
      "  warnings.warn('Empty filters detected in mel frequency basis. '\n"
     ]
    },
    {
     "name": "stdout",
     "output_type": "stream",
     "text": [
      "Finished this class. Going to the next\n"
     ]
    },
    {
     "name": "stderr",
     "output_type": "stream",
     "text": [
      "/Library/Frameworks/Python.framework/Versions/3.7/lib/python3.7/site-packages/librosa/filters.py:221: UserWarning: Empty filters detected in mel frequency basis. Some channels will produce empty responses. Try increasing your sampling rate (and fmax) or reducing n_mels.\n",
      "  warnings.warn('Empty filters detected in mel frequency basis. '\n"
     ]
    },
    {
     "name": "stdout",
     "output_type": "stream",
     "text": [
      "../AudioData/UrbanSound/car_horn/2937.wav\n",
      "../AudioData/UrbanSound/car_horn/2937.wav\n"
     ]
    },
    {
     "name": "stderr",
     "output_type": "stream",
     "text": [
      "/Library/Frameworks/Python.framework/Versions/3.7/lib/python3.7/site-packages/librosa/filters.py:221: UserWarning: Empty filters detected in mel frequency basis. Some channels will produce empty responses. Try increasing your sampling rate (and fmax) or reducing n_mels.\n",
      "  warnings.warn('Empty filters detected in mel frequency basis. '\n",
      "/Library/Frameworks/Python.framework/Versions/3.7/lib/python3.7/site-packages/librosa/filters.py:221: UserWarning: Empty filters detected in mel frequency basis. Some channels will produce empty responses. Try increasing your sampling rate (and fmax) or reducing n_mels.\n",
      "  warnings.warn('Empty filters detected in mel frequency basis. '\n"
     ]
    },
    {
     "name": "stdout",
     "output_type": "stream",
     "text": [
      "../AudioData/UrbanSound/car_horn/179863.wav\n",
      "../AudioData/UrbanSound/car_horn/179861.wav\n"
     ]
    },
    {
     "name": "stderr",
     "output_type": "stream",
     "text": [
      "/Library/Frameworks/Python.framework/Versions/3.7/lib/python3.7/site-packages/librosa/filters.py:221: UserWarning: Empty filters detected in mel frequency basis. Some channels will produce empty responses. Try increasing your sampling rate (and fmax) or reducing n_mels.\n",
      "  warnings.warn('Empty filters detected in mel frequency basis. '\n"
     ]
    },
    {
     "name": "stdout",
     "output_type": "stream",
     "text": [
      "../AudioData/UrbanSound/car_horn/179863.wav\n",
      "../AudioData/UrbanSound/car_horn/179860.wav\n",
      "../AudioData/UrbanSound/car_horn/179861.wav\n",
      "../AudioData/UrbanSound/car_horn/179860.wav\n",
      "../AudioData/UrbanSound/car_horn/162702.wav\n",
      "../AudioData/UrbanSound/car_horn/162702.wav\n"
     ]
    },
    {
     "name": "stderr",
     "output_type": "stream",
     "text": [
      "/Library/Frameworks/Python.framework/Versions/3.7/lib/python3.7/site-packages/librosa/filters.py:221: UserWarning: Empty filters detected in mel frequency basis. Some channels will produce empty responses. Try increasing your sampling rate (and fmax) or reducing n_mels.\n",
      "  warnings.warn('Empty filters detected in mel frequency basis. '\n"
     ]
    },
    {
     "name": "stdout",
     "output_type": "stream",
     "text": [
      "../AudioData/UrbanSound/car_horn/175848.wav\n",
      "../AudioData/UrbanSound/car_horn/175848.wav\n"
     ]
    },
    {
     "name": "stderr",
     "output_type": "stream",
     "text": [
      "/Library/Frameworks/Python.framework/Versions/3.7/lib/python3.7/site-packages/librosa/filters.py:221: UserWarning: Empty filters detected in mel frequency basis. Some channels will produce empty responses. Try increasing your sampling rate (and fmax) or reducing n_mels.\n",
      "  warnings.warn('Empty filters detected in mel frequency basis. '\n"
     ]
    },
    {
     "name": "stdout",
     "output_type": "stream",
     "text": [
      "../AudioData/UrbanSound/car_horn/174841.wav\n"
     ]
    },
    {
     "name": "stderr",
     "output_type": "stream",
     "text": [
      "/Library/Frameworks/Python.framework/Versions/3.7/lib/python3.7/site-packages/librosa/filters.py:221: UserWarning: Empty filters detected in mel frequency basis. Some channels will produce empty responses. Try increasing your sampling rate (and fmax) or reducing n_mels.\n",
      "  warnings.warn('Empty filters detected in mel frequency basis. '\n"
     ]
    },
    {
     "name": "stdout",
     "output_type": "stream",
     "text": [
      "../AudioData/UrbanSound/car_horn/138468.wav\n",
      "../AudioData/UrbanSound/car_horn/174841.wav\n",
      "../AudioData/UrbanSound/car_horn/138468.wav\n",
      "../AudioData/UrbanSound/car_horn/162728.wav\n",
      "../AudioData/UrbanSound/car_horn/162703.wav\n",
      "../AudioData/UrbanSound/car_horn/162728.wav\n",
      "../AudioData/UrbanSound/car_horn/162703.wav\n",
      "../AudioData/UrbanSound/car_horn/49974.wav\n",
      "../AudioData/UrbanSound/car_horn/49974.wav\n",
      "../AudioData/UrbanSound/car_horn/83465.wav\n",
      "../AudioData/UrbanSound/car_horn/83465.wav\n",
      "../AudioData/UrbanSound/car_horn/26185.wav\n",
      "../AudioData/UrbanSound/car_horn/26185.wav\n",
      "../AudioData/UrbanSound/car_horn/73168.wav\n",
      "../AudioData/UrbanSound/car_horn/73168.wav\n",
      "../AudioData/UrbanSound/car_horn/179867.wav\n",
      "../AudioData/UrbanSound/car_horn/179867.wav\n",
      "../AudioData/UrbanSound/car_horn/179866.wav\n",
      "../AudioData/UrbanSound/car_horn/179866.wav\n",
      "../AudioData/UrbanSound/car_horn/153057.wav\n",
      "../AudioData/UrbanSound/car_horn/153057.wav\n",
      "../AudioData/UrbanSound/car_horn/179862.wav\n",
      "../AudioData/UrbanSound/car_horn/179862.wav\n",
      "../AudioData/UrbanSound/car_horn/58202.wav\n",
      "../AudioData/UrbanSound/car_horn/58202.wav\n"
     ]
    },
    {
     "name": "stderr",
     "output_type": "stream",
     "text": [
      "/Library/Frameworks/Python.framework/Versions/3.7/lib/python3.7/site-packages/librosa/filters.py:221: UserWarning: Empty filters detected in mel frequency basis. Some channels will produce empty responses. Try increasing your sampling rate (and fmax) or reducing n_mels.\n",
      "  warnings.warn('Empty filters detected in mel frequency basis. '\n",
      "/Library/Frameworks/Python.framework/Versions/3.7/lib/python3.7/site-packages/librosa/filters.py:221: UserWarning: Empty filters detected in mel frequency basis. Some channels will produce empty responses. Try increasing your sampling rate (and fmax) or reducing n_mels.\n",
      "  warnings.warn('Empty filters detected in mel frequency basis. '\n"
     ]
    },
    {
     "name": "stdout",
     "output_type": "stream",
     "text": [
      "../AudioData/UrbanSound/car_horn/118496.wav\n"
     ]
    },
    {
     "name": "stderr",
     "output_type": "stream",
     "text": [
      "/Library/Frameworks/Python.framework/Versions/3.7/lib/python3.7/site-packages/librosa/filters.py:221: UserWarning: Empty filters detected in mel frequency basis. Some channels will produce empty responses. Try increasing your sampling rate (and fmax) or reducing n_mels.\n",
      "  warnings.warn('Empty filters detected in mel frequency basis. '\n",
      "/Library/Frameworks/Python.framework/Versions/3.7/lib/python3.7/site-packages/librosa/filters.py:221: UserWarning: Empty filters detected in mel frequency basis. Some channels will produce empty responses. Try increasing your sampling rate (and fmax) or reducing n_mels.\n",
      "  warnings.warn('Empty filters detected in mel frequency basis. '\n"
     ]
    },
    {
     "name": "stdout",
     "output_type": "stream",
     "text": [
      "../AudioData/UrbanSound/car_horn/179864.wav\n",
      "../AudioData/UrbanSound/car_horn/179864.wav\n",
      "../AudioData/UrbanSound/car_horn/179865.wav\n",
      "../AudioData/UrbanSound/car_horn/179865.wav\n",
      "../AudioData/UrbanSound/car_horn/175854.wav\n",
      "../AudioData/UrbanSound/car_horn/175854.wav\n",
      "../AudioData/UrbanSound/car_horn/26186.wav\n",
      "../AudioData/UrbanSound/car_horn/26186.wav\n",
      "../AudioData/UrbanSound/car_horn/118070.wav\n",
      "../AudioData/UrbanSound/car_horn/118070.wav\n"
     ]
    },
    {
     "name": "stderr",
     "output_type": "stream",
     "text": [
      "/Library/Frameworks/Python.framework/Versions/3.7/lib/python3.7/site-packages/librosa/filters.py:221: UserWarning: Empty filters detected in mel frequency basis. Some channels will produce empty responses. Try increasing your sampling rate (and fmax) or reducing n_mels.\n",
      "  warnings.warn('Empty filters detected in mel frequency basis. '\n"
     ]
    },
    {
     "name": "stdout",
     "output_type": "stream",
     "text": [
      "../AudioData/UrbanSound/car_horn/175843.wav\n",
      "../AudioData/UrbanSound/car_horn/175843.wav\n"
     ]
    },
    {
     "name": "stderr",
     "output_type": "stream",
     "text": [
      "/Library/Frameworks/Python.framework/Versions/3.7/lib/python3.7/site-packages/librosa/filters.py:221: UserWarning: Empty filters detected in mel frequency basis. Some channels will produce empty responses. Try increasing your sampling rate (and fmax) or reducing n_mels.\n",
      "  warnings.warn('Empty filters detected in mel frequency basis. '\n"
     ]
    },
    {
     "name": "stdout",
     "output_type": "stream",
     "text": [
      "../AudioData/UrbanSound/car_horn/175842.wav\n",
      "../AudioData/UrbanSound/car_horn/175842.wav\n",
      "../AudioData/UrbanSound/car_horn/77509.mp3\n",
      "../AudioData/UrbanSound/car_horn/77509.mp3\n",
      "../AudioData/UrbanSound/car_horn/175846.wav\n",
      "../AudioData/UrbanSound/car_horn/175846.wav\n",
      "../AudioData/UrbanSound/car_horn/175852.wav\n",
      "../AudioData/UrbanSound/car_horn/175852.wav\n",
      "../AudioData/UrbanSound/car_horn/145577.wav\n",
      "../AudioData/UrbanSound/car_horn/145577.wav\n"
     ]
    },
    {
     "name": "stderr",
     "output_type": "stream",
     "text": [
      "/Library/Frameworks/Python.framework/Versions/3.7/lib/python3.7/site-packages/librosa/filters.py:221: UserWarning: Empty filters detected in mel frequency basis. Some channels will produce empty responses. Try increasing your sampling rate (and fmax) or reducing n_mels.\n",
      "  warnings.warn('Empty filters detected in mel frequency basis. '\n"
     ]
    },
    {
     "name": "stdout",
     "output_type": "stream",
     "text": [
      "../AudioData/UrbanSound/car_horn/178115.wav\n"
     ]
    },
    {
     "name": "stderr",
     "output_type": "stream",
     "text": [
      "/Library/Frameworks/Python.framework/Versions/3.7/lib/python3.7/site-packages/librosa/filters.py:221: UserWarning: Empty filters detected in mel frequency basis. Some channels will produce empty responses. Try increasing your sampling rate (and fmax) or reducing n_mels.\n",
      "  warnings.warn('Empty filters detected in mel frequency basis. '\n"
     ]
    },
    {
     "name": "stdout",
     "output_type": "stream",
     "text": [
      "../AudioData/UrbanSound/car_horn/176003.wav\n",
      "../AudioData/UrbanSound/car_horn/179858.wav\n",
      "../AudioData/UrbanSound/car_horn/179858.wav\n",
      "../AudioData/UrbanSound/car_horn/175851.wav\n",
      "../AudioData/UrbanSound/car_horn/175851.wav\n",
      "../AudioData/UrbanSound/car_horn/17124.wav\n",
      "../AudioData/UrbanSound/car_horn/17124.wav\n",
      "../AudioData/UrbanSound/car_horn/164627.wav\n",
      "../AudioData/UrbanSound/car_horn/164627.wav\n",
      "../AudioData/UrbanSound/car_horn/32417.wav\n",
      "../AudioData/UrbanSound/car_horn/32417.wav\n",
      "../AudioData/UrbanSound/car_horn/164625.wav\n",
      "../AudioData/UrbanSound/car_horn/164625.wav\n",
      "../AudioData/UrbanSound/car_horn/68657.wav\n",
      "../AudioData/UrbanSound/car_horn/68657.wav\n",
      "../AudioData/UrbanSound/car_horn/175855.wav\n",
      "../AudioData/UrbanSound/car_horn/175855.wav\n",
      "../AudioData/UrbanSound/car_horn/94868.wav\n",
      "../AudioData/UrbanSound/car_horn/156091.wav\n",
      "../AudioData/UrbanSound/car_horn/156091.wav\n",
      "../AudioData/UrbanSound/car_horn/156194.wav\n",
      "../AudioData/UrbanSound/car_horn/156194.wav\n",
      "../AudioData/UrbanSound/car_horn/182474.wav\n",
      "../AudioData/UrbanSound/car_horn/182474.wav\n",
      "../AudioData/UrbanSound/car_horn/175844.wav\n",
      "../AudioData/UrbanSound/car_horn/175844.wav\n",
      "../AudioData/UrbanSound/car_horn/175850.wav\n",
      "../AudioData/UrbanSound/car_horn/175850.wav\n",
      "../AudioData/UrbanSound/car_horn/26177.wav\n",
      "../AudioData/UrbanSound/car_horn/26177.wav\n",
      "../AudioData/UrbanSound/car_horn/26176.wav\n",
      "../AudioData/UrbanSound/car_horn/26176.wav\n"
     ]
    },
    {
     "name": "stderr",
     "output_type": "stream",
     "text": [
      "/Library/Frameworks/Python.framework/Versions/3.7/lib/python3.7/site-packages/librosa/filters.py:221: UserWarning: Empty filters detected in mel frequency basis. Some channels will produce empty responses. Try increasing your sampling rate (and fmax) or reducing n_mels.\n",
      "  warnings.warn('Empty filters detected in mel frequency basis. '\n"
     ]
    },
    {
     "name": "stdout",
     "output_type": "stream",
     "text": [
      "../AudioData/UrbanSound/car_horn/19026.wav\n",
      "../AudioData/UrbanSound/car_horn/175853.wav\n",
      "../AudioData/UrbanSound/car_horn/175853.wav\n",
      "../AudioData/UrbanSound/car_horn/175847.wav\n",
      "../AudioData/UrbanSound/car_horn/175847.wav\n",
      "../AudioData/UrbanSound/car_horn/54086.wav\n"
     ]
    },
    {
     "name": "stderr",
     "output_type": "stream",
     "text": [
      "/Library/Frameworks/Python.framework/Versions/3.7/lib/python3.7/site-packages/librosa/filters.py:221: UserWarning: Empty filters detected in mel frequency basis. Some channels will produce empty responses. Try increasing your sampling rate (and fmax) or reducing n_mels.\n",
      "  warnings.warn('Empty filters detected in mel frequency basis. '\n",
      "/Library/Frameworks/Python.framework/Versions/3.7/lib/python3.7/site-packages/librosa/filters.py:221: UserWarning: Empty filters detected in mel frequency basis. Some channels will produce empty responses. Try increasing your sampling rate (and fmax) or reducing n_mels.\n",
      "  warnings.warn('Empty filters detected in mel frequency basis. '\n"
     ]
    },
    {
     "name": "stdout",
     "output_type": "stream",
     "text": [
      "../AudioData/UrbanSound/car_horn/175849.wav\n",
      "../AudioData/UrbanSound/car_horn/175849.wav\n",
      "../AudioData/UrbanSound/car_horn/170243.wav\n",
      "../AudioData/UrbanSound/car_horn/170243.wav\n",
      "../AudioData/UrbanSound/car_horn/164626.wav\n",
      "../AudioData/UrbanSound/car_horn/164626.wav\n",
      "Finished this class. Going to the next\n"
     ]
    },
    {
     "name": "stderr",
     "output_type": "stream",
     "text": [
      "/Library/Frameworks/Python.framework/Versions/3.7/lib/python3.7/site-packages/librosa/filters.py:221: UserWarning: Empty filters detected in mel frequency basis. Some channels will produce empty responses. Try increasing your sampling rate (and fmax) or reducing n_mels.\n",
      "  warnings.warn('Empty filters detected in mel frequency basis. '\n",
      "/Library/Frameworks/Python.framework/Versions/3.7/lib/python3.7/site-packages/librosa/filters.py:221: UserWarning: Empty filters detected in mel frequency basis. Some channels will produce empty responses. Try increasing your sampling rate (and fmax) or reducing n_mels.\n",
      "  warnings.warn('Empty filters detected in mel frequency basis. '\n"
     ]
    },
    {
     "name": "stdout",
     "output_type": "stream",
     "text": [
      "../AudioData/UrbanSound/gun_shot/161195.wav\n",
      "../AudioData/UrbanSound/gun_shot/164667.wav\n"
     ]
    },
    {
     "name": "stderr",
     "output_type": "stream",
     "text": [
      "/Library/Frameworks/Python.framework/Versions/3.7/lib/python3.7/site-packages/librosa/filters.py:221: UserWarning: Empty filters detected in mel frequency basis. Some channels will produce empty responses. Try increasing your sampling rate (and fmax) or reducing n_mels.\n",
      "  warnings.warn('Empty filters detected in mel frequency basis. '\n"
     ]
    },
    {
     "name": "stdout",
     "output_type": "stream",
     "text": [
      "../AudioData/UrbanSound/gun_shot/148166.wav\n",
      "../AudioData/UrbanSound/gun_shot/148166.wav\n"
     ]
    },
    {
     "name": "stderr",
     "output_type": "stream",
     "text": [
      "/Library/Frameworks/Python.framework/Versions/3.7/lib/python3.7/site-packages/librosa/filters.py:221: UserWarning: Empty filters detected in mel frequency basis. Some channels will produce empty responses. Try increasing your sampling rate (and fmax) or reducing n_mels.\n",
      "  warnings.warn('Empty filters detected in mel frequency basis. '\n"
     ]
    },
    {
     "name": "stdout",
     "output_type": "stream",
     "text": [
      "../AudioData/UrbanSound/gun_shot/35799.wav\n",
      "../AudioData/UrbanSound/gun_shot/35799.wav\n",
      "../AudioData/UrbanSound/gun_shot/111048.wav\n"
     ]
    },
    {
     "name": "stderr",
     "output_type": "stream",
     "text": [
      "/Library/Frameworks/Python.framework/Versions/3.7/lib/python3.7/site-packages/librosa/filters.py:221: UserWarning: Empty filters detected in mel frequency basis. Some channels will produce empty responses. Try increasing your sampling rate (and fmax) or reducing n_mels.\n",
      "  warnings.warn('Empty filters detected in mel frequency basis. '\n",
      "/Library/Frameworks/Python.framework/Versions/3.7/lib/python3.7/site-packages/librosa/filters.py:221: UserWarning: Empty filters detected in mel frequency basis. Some channels will produce empty responses. Try increasing your sampling rate (and fmax) or reducing n_mels.\n",
      "  warnings.warn('Empty filters detected in mel frequency basis. '\n"
     ]
    },
    {
     "name": "stdout",
     "output_type": "stream",
     "text": [
      "../AudioData/UrbanSound/gun_shot/159708.wav\n",
      "../AudioData/UrbanSound/gun_shot/111048.wav\n",
      "../AudioData/UrbanSound/gun_shot/158979.wav\n",
      "../AudioData/UrbanSound/gun_shot/159708.wav\n",
      "../AudioData/UrbanSound/gun_shot/158979.wav\n"
     ]
    },
    {
     "name": "stderr",
     "output_type": "stream",
     "text": [
      "/Library/Frameworks/Python.framework/Versions/3.7/lib/python3.7/site-packages/librosa/filters.py:221: UserWarning: Empty filters detected in mel frequency basis. Some channels will produce empty responses. Try increasing your sampling rate (and fmax) or reducing n_mels.\n",
      "  warnings.warn('Empty filters detected in mel frequency basis. '\n"
     ]
    },
    {
     "name": "stdout",
     "output_type": "stream",
     "text": [
      "../AudioData/UrbanSound/gun_shot/77247.wav\n",
      "../AudioData/UrbanSound/gun_shot/77247.wav\n",
      "../AudioData/UrbanSound/gun_shot/86278.wav\n",
      "../AudioData/UrbanSound/gun_shot/86278.wav\n",
      "../AudioData/UrbanSound/gun_shot/25038.wav\n",
      "../AudioData/UrbanSound/gun_shot/157799.mp3\n",
      "../AudioData/UrbanSound/gun_shot/25038.wav\n",
      "../AudioData/UrbanSound/gun_shot/157799.mp3\n"
     ]
    },
    {
     "name": "stderr",
     "output_type": "stream",
     "text": [
      "/Library/Frameworks/Python.framework/Versions/3.7/lib/python3.7/site-packages/librosa/filters.py:221: UserWarning: Empty filters detected in mel frequency basis. Some channels will produce empty responses. Try increasing your sampling rate (and fmax) or reducing n_mels.\n",
      "  warnings.warn('Empty filters detected in mel frequency basis. '\n"
     ]
    },
    {
     "name": "stdout",
     "output_type": "stream",
     "text": [
      "../AudioData/UrbanSound/gun_shot/77246.wav\n",
      "../AudioData/UrbanSound/gun_shot/77246.wav\n",
      "../AudioData/UrbanSound/gun_shot/159709.wav\n",
      "../AudioData/UrbanSound/gun_shot/159709.wav\n"
     ]
    },
    {
     "name": "stderr",
     "output_type": "stream",
     "text": [
      "/Library/Frameworks/Python.framework/Versions/3.7/lib/python3.7/site-packages/librosa/filters.py:221: UserWarning: Empty filters detected in mel frequency basis. Some channels will produce empty responses. Try increasing your sampling rate (and fmax) or reducing n_mels.\n",
      "  warnings.warn('Empty filters detected in mel frequency basis. '\n",
      "/Library/Frameworks/Python.framework/Versions/3.7/lib/python3.7/site-packages/librosa/filters.py:221: UserWarning: Empty filters detected in mel frequency basis. Some channels will produce empty responses. Try increasing your sampling rate (and fmax) or reducing n_mels.\n",
      "  warnings.warn('Empty filters detected in mel frequency basis. '\n"
     ]
    },
    {
     "name": "stdout",
     "output_type": "stream",
     "text": [
      "../AudioData/UrbanSound/gun_shot/131571.wav\n",
      "../AudioData/UrbanSound/gun_shot/131571.wav\n"
     ]
    },
    {
     "name": "stderr",
     "output_type": "stream",
     "text": [
      "/Library/Frameworks/Python.framework/Versions/3.7/lib/python3.7/site-packages/librosa/filters.py:221: UserWarning: Empty filters detected in mel frequency basis. Some channels will produce empty responses. Try increasing your sampling rate (and fmax) or reducing n_mels.\n",
      "  warnings.warn('Empty filters detected in mel frequency basis. '\n"
     ]
    },
    {
     "name": "stdout",
     "output_type": "stream",
     "text": [
      "../AudioData/UrbanSound/gun_shot/78776.wav\n",
      "../AudioData/UrbanSound/gun_shot/78776.wav\n",
      "../AudioData/UrbanSound/gun_shot/84254.wav\n",
      "../AudioData/UrbanSound/gun_shot/84254.wav\n",
      "../AudioData/UrbanSound/gun_shot/148828.mp3\n"
     ]
    },
    {
     "name": "stderr",
     "output_type": "stream",
     "text": [
      "/Library/Frameworks/Python.framework/Versions/3.7/lib/python3.7/site-packages/librosa/filters.py:221: UserWarning: Empty filters detected in mel frequency basis. Some channels will produce empty responses. Try increasing your sampling rate (and fmax) or reducing n_mels.\n",
      "  warnings.warn('Empty filters detected in mel frequency basis. '\n"
     ]
    },
    {
     "name": "stdout",
     "output_type": "stream",
     "text": [
      "../AudioData/UrbanSound/gun_shot/151069.wav\n",
      "../AudioData/UrbanSound/gun_shot/148828.mp3\n",
      "../AudioData/UrbanSound/gun_shot/7067.wav\n",
      "../AudioData/UrbanSound/gun_shot/7067.wav\n",
      "../AudioData/UrbanSound/gun_shot/7068.wav\n",
      "../AudioData/UrbanSound/gun_shot/7068.wav\n",
      "../AudioData/UrbanSound/gun_shot/25039.wav\n",
      "../AudioData/UrbanSound/gun_shot/35800.wav\n",
      "../AudioData/UrbanSound/gun_shot/25039.wav\n",
      "../AudioData/UrbanSound/gun_shot/35800.wav\n"
     ]
    },
    {
     "name": "stderr",
     "output_type": "stream",
     "text": [
      "/Library/Frameworks/Python.framework/Versions/3.7/lib/python3.7/site-packages/librosa/filters.py:221: UserWarning: Empty filters detected in mel frequency basis. Some channels will produce empty responses. Try increasing your sampling rate (and fmax) or reducing n_mels.\n",
      "  warnings.warn('Empty filters detected in mel frequency basis. '\n"
     ]
    },
    {
     "name": "stdout",
     "output_type": "stream",
     "text": [
      "../AudioData/UrbanSound/gun_shot/148834.mp3\n",
      "../AudioData/UrbanSound/gun_shot/148834.mp3\n",
      "../AudioData/UrbanSound/gun_shot/148837.mp3\n",
      "../AudioData/UrbanSound/gun_shot/76090.wav\n",
      "../AudioData/UrbanSound/gun_shot/148837.mp3\n",
      "../AudioData/UrbanSound/gun_shot/76090.wav\n",
      "../AudioData/UrbanSound/gun_shot/7065.wav\n",
      "../AudioData/UrbanSound/gun_shot/7065.wav\n",
      "../AudioData/UrbanSound/gun_shot/76089.wav\n"
     ]
    },
    {
     "name": "stderr",
     "output_type": "stream",
     "text": [
      "/Library/Frameworks/Python.framework/Versions/3.7/lib/python3.7/site-packages/librosa/filters.py:221: UserWarning: Empty filters detected in mel frequency basis. Some channels will produce empty responses. Try increasing your sampling rate (and fmax) or reducing n_mels.\n",
      "  warnings.warn('Empty filters detected in mel frequency basis. '\n"
     ]
    },
    {
     "name": "stdout",
     "output_type": "stream",
     "text": [
      "../AudioData/UrbanSound/gun_shot/148838.mp3\n",
      "../AudioData/UrbanSound/gun_shot/76089.wav\n",
      "../AudioData/UrbanSound/gun_shot/148838.mp3\n",
      "../AudioData/UrbanSound/gun_shot/7061.wav\n",
      "../AudioData/UrbanSound/gun_shot/7061.wav\n",
      "../AudioData/UrbanSound/gun_shot/149177.wav\n",
      "../AudioData/UrbanSound/gun_shot/158978.wav\n",
      "../AudioData/UrbanSound/gun_shot/158978.wav\n",
      "../AudioData/UrbanSound/gun_shot/110622.wav\n",
      "../AudioData/UrbanSound/gun_shot/110622.wav\n"
     ]
    },
    {
     "name": "stderr",
     "output_type": "stream",
     "text": [
      "/Library/Frameworks/Python.framework/Versions/3.7/lib/python3.7/site-packages/librosa/filters.py:221: UserWarning: Empty filters detected in mel frequency basis. Some channels will produce empty responses. Try increasing your sampling rate (and fmax) or reducing n_mels.\n",
      "  warnings.warn('Empty filters detected in mel frequency basis. '\n"
     ]
    },
    {
     "name": "stdout",
     "output_type": "stream",
     "text": [
      "../AudioData/UrbanSound/gun_shot/151065.wav\n",
      "../AudioData/UrbanSound/gun_shot/37236.wav\n",
      "../AudioData/UrbanSound/gun_shot/37236.wav\n",
      "../AudioData/UrbanSound/gun_shot/151071.wav\n",
      "../AudioData/UrbanSound/gun_shot/25037.wav\n",
      "../AudioData/UrbanSound/gun_shot/25037.wav\n",
      "../AudioData/UrbanSound/gun_shot/7062.wav\n",
      "../AudioData/UrbanSound/gun_shot/7062.wav\n",
      "../AudioData/UrbanSound/gun_shot/169261.wav\n",
      "../AudioData/UrbanSound/gun_shot/162436.wav\n",
      "../AudioData/UrbanSound/gun_shot/162436.wav\n",
      "../AudioData/UrbanSound/gun_shot/46655.wav\n",
      "../AudioData/UrbanSound/gun_shot/46655.wav\n",
      "../AudioData/UrbanSound/gun_shot/76094.wav\n",
      "../AudioData/UrbanSound/gun_shot/76094.wav\n",
      "../AudioData/UrbanSound/gun_shot/159703.wav\n",
      "../AudioData/UrbanSound/gun_shot/64346.wav\n",
      "../AudioData/UrbanSound/gun_shot/162435.wav\n",
      "../AudioData/UrbanSound/gun_shot/159703.wav\n",
      "../AudioData/UrbanSound/gun_shot/64346.wav\n",
      "../AudioData/UrbanSound/gun_shot/162435.wav\n",
      "../AudioData/UrbanSound/gun_shot/93139.wav\n",
      "../AudioData/UrbanSound/gun_shot/205013.wav\n",
      "../AudioData/UrbanSound/gun_shot/205013.wav\n",
      "../AudioData/UrbanSound/gun_shot/93139.wav\n"
     ]
    },
    {
     "name": "stderr",
     "output_type": "stream",
     "text": [
      "/Library/Frameworks/Python.framework/Versions/3.7/lib/python3.7/site-packages/librosa/filters.py:221: UserWarning: Empty filters detected in mel frequency basis. Some channels will produce empty responses. Try increasing your sampling rate (and fmax) or reducing n_mels.\n",
      "  warnings.warn('Empty filters detected in mel frequency basis. '\n"
     ]
    },
    {
     "name": "stdout",
     "output_type": "stream",
     "text": [
      "../AudioData/UrbanSound/gun_shot/163460.wav\n",
      "../AudioData/UrbanSound/gun_shot/7063.wav\n",
      "../AudioData/UrbanSound/gun_shot/7063.wav\n",
      "../AudioData/UrbanSound/gun_shot/157800.mp3\n",
      "../AudioData/UrbanSound/gun_shot/157800.mp3\n",
      "../AudioData/UrbanSound/gun_shot/159707.wav\n",
      "../AudioData/UrbanSound/gun_shot/159707.wav\n",
      "../AudioData/UrbanSound/gun_shot/46654.wav\n",
      "../AudioData/UrbanSound/gun_shot/46654.wav\n",
      "../AudioData/UrbanSound/gun_shot/159706.wav\n",
      "../AudioData/UrbanSound/gun_shot/159706.wav\n",
      "../AudioData/UrbanSound/gun_shot/106955.wav\n",
      "../AudioData/UrbanSound/gun_shot/106955.wav\n",
      "../AudioData/UrbanSound/gun_shot/164646.wav\n",
      "../AudioData/UrbanSound/gun_shot/158977.wav\n",
      "../AudioData/UrbanSound/gun_shot/158977.wav\n"
     ]
    },
    {
     "name": "stderr",
     "output_type": "stream",
     "text": [
      "/Library/Frameworks/Python.framework/Versions/3.7/lib/python3.7/site-packages/librosa/filters.py:221: UserWarning: Empty filters detected in mel frequency basis. Some channels will produce empty responses. Try increasing your sampling rate (and fmax) or reducing n_mels.\n",
      "  warnings.warn('Empty filters detected in mel frequency basis. '\n"
     ]
    },
    {
     "name": "stdout",
     "output_type": "stream",
     "text": [
      "../AudioData/UrbanSound/gun_shot/159704.wav\n",
      "../AudioData/UrbanSound/gun_shot/159704.wav\n",
      "../AudioData/UrbanSound/gun_shot/159705.wav\n",
      "../AudioData/UrbanSound/gun_shot/159705.wav\n",
      "../AudioData/UrbanSound/gun_shot/180960.wav\n",
      "../AudioData/UrbanSound/gun_shot/180960.wav\n",
      "../AudioData/UrbanSound/gun_shot/162434.wav\n",
      "../AudioData/UrbanSound/gun_shot/162434.wav\n",
      "../AudioData/UrbanSound/gun_shot/102305.wav\n",
      "../AudioData/UrbanSound/gun_shot/102305.wav\n",
      "../AudioData/UrbanSound/gun_shot/196400.wav\n",
      "../AudioData/UrbanSound/gun_shot/196400.wav\n",
      "../AudioData/UrbanSound/gun_shot/159710.wav\n",
      "../AudioData/UrbanSound/gun_shot/159710.wav\n",
      "../AudioData/UrbanSound/gun_shot/157801.mp3\n",
      "../AudioData/UrbanSound/gun_shot/157801.mp3\n",
      "../AudioData/UrbanSound/gun_shot/162433.wav\n",
      "../AudioData/UrbanSound/gun_shot/162433.wav\n",
      "../AudioData/UrbanSound/gun_shot/147317.wav\n",
      "../AudioData/UrbanSound/gun_shot/147317.wav\n",
      "Finished this class. Going to the next\n"
     ]
    },
    {
     "name": "stderr",
     "output_type": "stream",
     "text": [
      "/Library/Frameworks/Python.framework/Versions/3.7/lib/python3.7/site-packages/librosa/filters.py:221: UserWarning: Empty filters detected in mel frequency basis. Some channels will produce empty responses. Try increasing your sampling rate (and fmax) or reducing n_mels.\n",
      "  warnings.warn('Empty filters detected in mel frequency basis. '\n",
      "/Library/Frameworks/Python.framework/Versions/3.7/lib/python3.7/site-packages/librosa/filters.py:221: UserWarning: Empty filters detected in mel frequency basis. Some channels will produce empty responses. Try increasing your sampling rate (and fmax) or reducing n_mels.\n",
      "  warnings.warn('Empty filters detected in mel frequency basis. '\n"
     ]
    },
    {
     "name": "stdout",
     "output_type": "stream",
     "text": [
      "../AudioData/UrbanSound/drilling/165642.wav\n",
      "../AudioData/UrbanSound/drilling/165642.wav\n"
     ]
    },
    {
     "name": "stderr",
     "output_type": "stream",
     "text": [
      "/Library/Frameworks/Python.framework/Versions/3.7/lib/python3.7/site-packages/librosa/filters.py:221: UserWarning: Empty filters detected in mel frequency basis. Some channels will produce empty responses. Try increasing your sampling rate (and fmax) or reducing n_mels.\n",
      "  warnings.warn('Empty filters detected in mel frequency basis. '\n",
      "/Library/Frameworks/Python.framework/Versions/3.7/lib/python3.7/site-packages/librosa/filters.py:221: UserWarning: Empty filters detected in mel frequency basis. Some channels will produce empty responses. Try increasing your sampling rate (and fmax) or reducing n_mels.\n",
      "  warnings.warn('Empty filters detected in mel frequency basis. '\n"
     ]
    },
    {
     "name": "stdout",
     "output_type": "stream",
     "text": [
      "../AudioData/UrbanSound/drilling/140824.wav\n",
      "../AudioData/UrbanSound/drilling/140824.wav\n",
      "../AudioData/UrbanSound/drilling/71079.wav\n"
     ]
    },
    {
     "name": "stderr",
     "output_type": "stream",
     "text": [
      "/Library/Frameworks/Python.framework/Versions/3.7/lib/python3.7/site-packages/librosa/filters.py:221: UserWarning: Empty filters detected in mel frequency basis. Some channels will produce empty responses. Try increasing your sampling rate (and fmax) or reducing n_mels.\n",
      "  warnings.warn('Empty filters detected in mel frequency basis. '\n",
      "/Library/Frameworks/Python.framework/Versions/3.7/lib/python3.7/site-packages/librosa/filters.py:221: UserWarning: Empty filters detected in mel frequency basis. Some channels will produce empty responses. Try increasing your sampling rate (and fmax) or reducing n_mels.\n",
      "  warnings.warn('Empty filters detected in mel frequency basis. '\n",
      "/Library/Frameworks/Python.framework/Versions/3.7/lib/python3.7/site-packages/librosa/filters.py:221: UserWarning: Empty filters detected in mel frequency basis. Some channels will produce empty responses. Try increasing your sampling rate (and fmax) or reducing n_mels.\n",
      "  warnings.warn('Empty filters detected in mel frequency basis. '\n",
      "/Library/Frameworks/Python.framework/Versions/3.7/lib/python3.7/site-packages/librosa/filters.py:221: UserWarning: Empty filters detected in mel frequency basis. Some channels will produce empty responses. Try increasing your sampling rate (and fmax) or reducing n_mels.\n",
      "  warnings.warn('Empty filters detected in mel frequency basis. '\n",
      "/Library/Frameworks/Python.framework/Versions/3.7/lib/python3.7/site-packages/librosa/filters.py:221: UserWarning: Empty filters detected in mel frequency basis. Some channels will produce empty responses. Try increasing your sampling rate (and fmax) or reducing n_mels.\n",
      "  warnings.warn('Empty filters detected in mel frequency basis. '\n",
      "/Library/Frameworks/Python.framework/Versions/3.7/lib/python3.7/site-packages/librosa/filters.py:221: UserWarning: Empty filters detected in mel frequency basis. Some channels will produce empty responses. Try increasing your sampling rate (and fmax) or reducing n_mels.\n",
      "  warnings.warn('Empty filters detected in mel frequency basis. '\n",
      "/Library/Frameworks/Python.framework/Versions/3.7/lib/python3.7/site-packages/librosa/filters.py:221: UserWarning: Empty filters detected in mel frequency basis. Some channels will produce empty responses. Try increasing your sampling rate (and fmax) or reducing n_mels.\n",
      "  warnings.warn('Empty filters detected in mel frequency basis. '\n",
      "/Library/Frameworks/Python.framework/Versions/3.7/lib/python3.7/site-packages/librosa/filters.py:221: UserWarning: Empty filters detected in mel frequency basis. Some channels will produce empty responses. Try increasing your sampling rate (and fmax) or reducing n_mels.\n",
      "  warnings.warn('Empty filters detected in mel frequency basis. '\n",
      "/Library/Frameworks/Python.framework/Versions/3.7/lib/python3.7/site-packages/librosa/filters.py:221: UserWarning: Empty filters detected in mel frequency basis. Some channels will produce empty responses. Try increasing your sampling rate (and fmax) or reducing n_mels.\n",
      "  warnings.warn('Empty filters detected in mel frequency basis. '\n"
     ]
    },
    {
     "name": "stdout",
     "output_type": "stream",
     "text": [
      "../AudioData/UrbanSound/drilling/19007.wav\n"
     ]
    },
    {
     "name": "stderr",
     "output_type": "stream",
     "text": [
      "/Library/Frameworks/Python.framework/Versions/3.7/lib/python3.7/site-packages/librosa/filters.py:221: UserWarning: Empty filters detected in mel frequency basis. Some channels will produce empty responses. Try increasing your sampling rate (and fmax) or reducing n_mels.\n",
      "  warnings.warn('Empty filters detected in mel frequency basis. '\n"
     ]
    },
    {
     "name": "stdout",
     "output_type": "stream",
     "text": [
      "../AudioData/UrbanSound/drilling/71080.wav\n",
      "../AudioData/UrbanSound/drilling/135849.wav\n"
     ]
    },
    {
     "name": "stderr",
     "output_type": "stream",
     "text": [
      "/Library/Frameworks/Python.framework/Versions/3.7/lib/python3.7/site-packages/librosa/filters.py:221: UserWarning: Empty filters detected in mel frequency basis. Some channels will produce empty responses. Try increasing your sampling rate (and fmax) or reducing n_mels.\n",
      "  warnings.warn('Empty filters detected in mel frequency basis. '\n"
     ]
    },
    {
     "name": "stdout",
     "output_type": "stream",
     "text": [
      "../AudioData/UrbanSound/drilling/71082.wav\n",
      "../AudioData/UrbanSound/drilling/146244.wav\n",
      "../AudioData/UrbanSound/drilling/146249.wav\n"
     ]
    },
    {
     "name": "stderr",
     "output_type": "stream",
     "text": [
      "/Library/Frameworks/Python.framework/Versions/3.7/lib/python3.7/site-packages/librosa/filters.py:221: UserWarning: Empty filters detected in mel frequency basis. Some channels will produce empty responses. Try increasing your sampling rate (and fmax) or reducing n_mels.\n",
      "  warnings.warn('Empty filters detected in mel frequency basis. '\n"
     ]
    },
    {
     "name": "stdout",
     "output_type": "stream",
     "text": [
      "../AudioData/UrbanSound/drilling/39533.wav\n"
     ]
    },
    {
     "name": "stderr",
     "output_type": "stream",
     "text": [
      "/Library/Frameworks/Python.framework/Versions/3.7/lib/python3.7/site-packages/librosa/filters.py:221: UserWarning: Empty filters detected in mel frequency basis. Some channels will produce empty responses. Try increasing your sampling rate (and fmax) or reducing n_mels.\n",
      "  warnings.warn('Empty filters detected in mel frequency basis. '\n",
      "/Library/Frameworks/Python.framework/Versions/3.7/lib/python3.7/site-packages/librosa/filters.py:221: UserWarning: Empty filters detected in mel frequency basis. Some channels will produce empty responses. Try increasing your sampling rate (and fmax) or reducing n_mels.\n",
      "  warnings.warn('Empty filters detected in mel frequency basis. '\n"
     ]
    },
    {
     "name": "stdout",
     "output_type": "stream",
     "text": [
      "../AudioData/UrbanSound/drilling/14115.wav\n",
      "../AudioData/UrbanSound/drilling/165786.wav\n",
      "../AudioData/UrbanSound/drilling/165786.wav\n"
     ]
    },
    {
     "name": "stderr",
     "output_type": "stream",
     "text": [
      "/Library/Frameworks/Python.framework/Versions/3.7/lib/python3.7/site-packages/librosa/filters.py:221: UserWarning: Empty filters detected in mel frequency basis. Some channels will produce empty responses. Try increasing your sampling rate (and fmax) or reducing n_mels.\n",
      "  warnings.warn('Empty filters detected in mel frequency basis. '\n"
     ]
    },
    {
     "name": "stdout",
     "output_type": "stream",
     "text": [
      "../AudioData/UrbanSound/drilling/39532.wav\n"
     ]
    },
    {
     "name": "stderr",
     "output_type": "stream",
     "text": [
      "/Library/Frameworks/Python.framework/Versions/3.7/lib/python3.7/site-packages/librosa/filters.py:221: UserWarning: Empty filters detected in mel frequency basis. Some channels will produce empty responses. Try increasing your sampling rate (and fmax) or reducing n_mels.\n",
      "  warnings.warn('Empty filters detected in mel frequency basis. '\n",
      "/Library/Frameworks/Python.framework/Versions/3.7/lib/python3.7/site-packages/librosa/filters.py:221: UserWarning: Empty filters detected in mel frequency basis. Some channels will produce empty responses. Try increasing your sampling rate (and fmax) or reducing n_mels.\n",
      "  warnings.warn('Empty filters detected in mel frequency basis. '\n",
      "/Library/Frameworks/Python.framework/Versions/3.7/lib/python3.7/site-packages/librosa/filters.py:221: UserWarning: Empty filters detected in mel frequency basis. Some channels will produce empty responses. Try increasing your sampling rate (and fmax) or reducing n_mels.\n",
      "  warnings.warn('Empty filters detected in mel frequency basis. '\n"
     ]
    },
    {
     "name": "stdout",
     "output_type": "stream",
     "text": [
      "Finished this class. Going to the next\n"
     ]
    },
    {
     "name": "stderr",
     "output_type": "stream",
     "text": [
      "/Library/Frameworks/Python.framework/Versions/3.7/lib/python3.7/site-packages/librosa/filters.py:221: UserWarning: Empty filters detected in mel frequency basis. Some channels will produce empty responses. Try increasing your sampling rate (and fmax) or reducing n_mels.\n",
      "  warnings.warn('Empty filters detected in mel frequency basis. '\n",
      "/Library/Frameworks/Python.framework/Versions/3.7/lib/python3.7/site-packages/librosa/filters.py:221: UserWarning: Empty filters detected in mel frequency basis. Some channels will produce empty responses. Try increasing your sampling rate (and fmax) or reducing n_mels.\n",
      "  warnings.warn('Empty filters detected in mel frequency basis. '\n",
      "/Library/Frameworks/Python.framework/Versions/3.7/lib/python3.7/site-packages/librosa/filters.py:221: UserWarning: Empty filters detected in mel frequency basis. Some channels will produce empty responses. Try increasing your sampling rate (and fmax) or reducing n_mels.\n",
      "  warnings.warn('Empty filters detected in mel frequency basis. '\n",
      "/Library/Frameworks/Python.framework/Versions/3.7/lib/python3.7/site-packages/librosa/filters.py:221: UserWarning: Empty filters detected in mel frequency basis. Some channels will produce empty responses. Try increasing your sampling rate (and fmax) or reducing n_mels.\n",
      "  warnings.warn('Empty filters detected in mel frequency basis. '\n",
      "/Library/Frameworks/Python.framework/Versions/3.7/lib/python3.7/site-packages/librosa/filters.py:221: UserWarning: Empty filters detected in mel frequency basis. Some channels will produce empty responses. Try increasing your sampling rate (and fmax) or reducing n_mels.\n",
      "  warnings.warn('Empty filters detected in mel frequency basis. '\n",
      "/Library/Frameworks/Python.framework/Versions/3.7/lib/python3.7/site-packages/librosa/filters.py:221: UserWarning: Empty filters detected in mel frequency basis. Some channels will produce empty responses. Try increasing your sampling rate (and fmax) or reducing n_mels.\n",
      "  warnings.warn('Empty filters detected in mel frequency basis. '\n",
      "/Library/Frameworks/Python.framework/Versions/3.7/lib/python3.7/site-packages/librosa/filters.py:221: UserWarning: Empty filters detected in mel frequency basis. Some channels will produce empty responses. Try increasing your sampling rate (and fmax) or reducing n_mels.\n",
      "  warnings.warn('Empty filters detected in mel frequency basis. '\n",
      "/Library/Frameworks/Python.framework/Versions/3.7/lib/python3.7/site-packages/librosa/filters.py:221: UserWarning: Empty filters detected in mel frequency basis. Some channels will produce empty responses. Try increasing your sampling rate (and fmax) or reducing n_mels.\n",
      "  warnings.warn('Empty filters detected in mel frequency basis. '\n",
      "/Library/Frameworks/Python.framework/Versions/3.7/lib/python3.7/site-packages/librosa/filters.py:221: UserWarning: Empty filters detected in mel frequency basis. Some channels will produce empty responses. Try increasing your sampling rate (and fmax) or reducing n_mels.\n",
      "  warnings.warn('Empty filters detected in mel frequency basis. '\n",
      "/Library/Frameworks/Python.framework/Versions/3.7/lib/python3.7/site-packages/librosa/filters.py:221: UserWarning: Empty filters detected in mel frequency basis. Some channels will produce empty responses. Try increasing your sampling rate (and fmax) or reducing n_mels.\n",
      "  warnings.warn('Empty filters detected in mel frequency basis. '\n",
      "/Library/Frameworks/Python.framework/Versions/3.7/lib/python3.7/site-packages/librosa/filters.py:221: UserWarning: Empty filters detected in mel frequency basis. Some channels will produce empty responses. Try increasing your sampling rate (and fmax) or reducing n_mels.\n",
      "  warnings.warn('Empty filters detected in mel frequency basis. '\n",
      "/Library/Frameworks/Python.framework/Versions/3.7/lib/python3.7/site-packages/librosa/filters.py:221: UserWarning: Empty filters detected in mel frequency basis. Some channels will produce empty responses. Try increasing your sampling rate (and fmax) or reducing n_mels.\n",
      "  warnings.warn('Empty filters detected in mel frequency basis. '\n",
      "/Library/Frameworks/Python.framework/Versions/3.7/lib/python3.7/site-packages/librosa/filters.py:221: UserWarning: Empty filters detected in mel frequency basis. Some channels will produce empty responses. Try increasing your sampling rate (and fmax) or reducing n_mels.\n",
      "  warnings.warn('Empty filters detected in mel frequency basis. '\n",
      "/Library/Frameworks/Python.framework/Versions/3.7/lib/python3.7/site-packages/librosa/filters.py:221: UserWarning: Empty filters detected in mel frequency basis. Some channels will produce empty responses. Try increasing your sampling rate (and fmax) or reducing n_mels.\n",
      "  warnings.warn('Empty filters detected in mel frequency basis. '\n",
      "/Library/Frameworks/Python.framework/Versions/3.7/lib/python3.7/site-packages/librosa/filters.py:221: UserWarning: Empty filters detected in mel frequency basis. Some channels will produce empty responses. Try increasing your sampling rate (and fmax) or reducing n_mels.\n",
      "  warnings.warn('Empty filters detected in mel frequency basis. '\n",
      "/Library/Frameworks/Python.framework/Versions/3.7/lib/python3.7/site-packages/librosa/filters.py:221: UserWarning: Empty filters detected in mel frequency basis. Some channels will produce empty responses. Try increasing your sampling rate (and fmax) or reducing n_mels.\n",
      "  warnings.warn('Empty filters detected in mel frequency basis. '\n"
     ]
    },
    {
     "name": "stdout",
     "output_type": "stream",
     "text": [
      "Finished this class. Going to the next\n"
     ]
    },
    {
     "name": "stderr",
     "output_type": "stream",
     "text": [
      "/Library/Frameworks/Python.framework/Versions/3.7/lib/python3.7/site-packages/librosa/filters.py:221: UserWarning: Empty filters detected in mel frequency basis. Some channels will produce empty responses. Try increasing your sampling rate (and fmax) or reducing n_mels.\n",
      "  warnings.warn('Empty filters detected in mel frequency basis. '\n"
     ]
    },
    {
     "name": "stdout",
     "output_type": "stream",
     "text": [
      "../AudioData/UrbanSound/children_playing/196079.wav\n",
      "../AudioData/UrbanSound/children_playing/196079.wav\n"
     ]
    },
    {
     "name": "stderr",
     "output_type": "stream",
     "text": [
      "/Library/Frameworks/Python.framework/Versions/3.7/lib/python3.7/site-packages/librosa/filters.py:221: UserWarning: Empty filters detected in mel frequency basis. Some channels will produce empty responses. Try increasing your sampling rate (and fmax) or reducing n_mels.\n",
      "  warnings.warn('Empty filters detected in mel frequency basis. '\n",
      "/Library/Frameworks/Python.framework/Versions/3.7/lib/python3.7/site-packages/librosa/filters.py:221: UserWarning: Empty filters detected in mel frequency basis. Some channels will produce empty responses. Try increasing your sampling rate (and fmax) or reducing n_mels.\n",
      "  warnings.warn('Empty filters detected in mel frequency basis. '\n",
      "/Library/Frameworks/Python.framework/Versions/3.7/lib/python3.7/site-packages/librosa/filters.py:221: UserWarning: Empty filters detected in mel frequency basis. Some channels will produce empty responses. Try increasing your sampling rate (and fmax) or reducing n_mels.\n",
      "  warnings.warn('Empty filters detected in mel frequency basis. '\n",
      "/Library/Frameworks/Python.framework/Versions/3.7/lib/python3.7/site-packages/librosa/filters.py:221: UserWarning: Empty filters detected in mel frequency basis. Some channels will produce empty responses. Try increasing your sampling rate (and fmax) or reducing n_mels.\n",
      "  warnings.warn('Empty filters detected in mel frequency basis. '\n",
      "/Library/Frameworks/Python.framework/Versions/3.7/lib/python3.7/site-packages/librosa/filters.py:221: UserWarning: Empty filters detected in mel frequency basis. Some channels will produce empty responses. Try increasing your sampling rate (and fmax) or reducing n_mels.\n",
      "  warnings.warn('Empty filters detected in mel frequency basis. '\n",
      "/Library/Frameworks/Python.framework/Versions/3.7/lib/python3.7/site-packages/librosa/filters.py:221: UserWarning: Empty filters detected in mel frequency basis. Some channels will produce empty responses. Try increasing your sampling rate (and fmax) or reducing n_mels.\n",
      "  warnings.warn('Empty filters detected in mel frequency basis. '\n",
      "/Library/Frameworks/Python.framework/Versions/3.7/lib/python3.7/site-packages/librosa/filters.py:221: UserWarning: Empty filters detected in mel frequency basis. Some channels will produce empty responses. Try increasing your sampling rate (and fmax) or reducing n_mels.\n",
      "  warnings.warn('Empty filters detected in mel frequency basis. '\n",
      "/Library/Frameworks/Python.framework/Versions/3.7/lib/python3.7/site-packages/librosa/filters.py:221: UserWarning: Empty filters detected in mel frequency basis. Some channels will produce empty responses. Try increasing your sampling rate (and fmax) or reducing n_mels.\n",
      "  warnings.warn('Empty filters detected in mel frequency basis. '\n",
      "/Library/Frameworks/Python.framework/Versions/3.7/lib/python3.7/site-packages/librosa/filters.py:221: UserWarning: Empty filters detected in mel frequency basis. Some channels will produce empty responses. Try increasing your sampling rate (and fmax) or reducing n_mels.\n",
      "  warnings.warn('Empty filters detected in mel frequency basis. '\n"
     ]
    },
    {
     "name": "stdout",
     "output_type": "stream",
     "text": [
      "../AudioData/UrbanSound/children_playing/196087.wav\n",
      "../AudioData/UrbanSound/children_playing/196087.wav\n"
     ]
    },
    {
     "name": "stderr",
     "output_type": "stream",
     "text": [
      "/Library/Frameworks/Python.framework/Versions/3.7/lib/python3.7/site-packages/librosa/filters.py:221: UserWarning: Empty filters detected in mel frequency basis. Some channels will produce empty responses. Try increasing your sampling rate (and fmax) or reducing n_mels.\n",
      "  warnings.warn('Empty filters detected in mel frequency basis. '\n"
     ]
    },
    {
     "name": "stdout",
     "output_type": "stream",
     "text": [
      "../AudioData/UrbanSound/children_playing/196086.wav\n",
      "../AudioData/UrbanSound/children_playing/196086.wav\n"
     ]
    },
    {
     "name": "stderr",
     "output_type": "stream",
     "text": [
      "/Library/Frameworks/Python.framework/Versions/3.7/lib/python3.7/site-packages/librosa/filters.py:221: UserWarning: Empty filters detected in mel frequency basis. Some channels will produce empty responses. Try increasing your sampling rate (and fmax) or reducing n_mels.\n",
      "  warnings.warn('Empty filters detected in mel frequency basis. '\n"
     ]
    },
    {
     "name": "stdout",
     "output_type": "stream",
     "text": [
      "../AudioData/UrbanSound/children_playing/196083.wav\n",
      "../AudioData/UrbanSound/children_playing/196083.wav\n",
      "../AudioData/UrbanSound/children_playing/196081.wav\n",
      "../AudioData/UrbanSound/children_playing/196081.wav\n"
     ]
    },
    {
     "name": "stderr",
     "output_type": "stream",
     "text": [
      "/Library/Frameworks/Python.framework/Versions/3.7/lib/python3.7/site-packages/librosa/filters.py:221: UserWarning: Empty filters detected in mel frequency basis. Some channels will produce empty responses. Try increasing your sampling rate (and fmax) or reducing n_mels.\n",
      "  warnings.warn('Empty filters detected in mel frequency basis. '\n"
     ]
    },
    {
     "name": "stdout",
     "output_type": "stream",
     "text": [
      "../AudioData/UrbanSound/children_playing/196078.wav\n",
      "../AudioData/UrbanSound/children_playing/196078.wav\n"
     ]
    },
    {
     "name": "stderr",
     "output_type": "stream",
     "text": [
      "/Library/Frameworks/Python.framework/Versions/3.7/lib/python3.7/site-packages/librosa/filters.py:221: UserWarning: Empty filters detected in mel frequency basis. Some channels will produce empty responses. Try increasing your sampling rate (and fmax) or reducing n_mels.\n",
      "  warnings.warn('Empty filters detected in mel frequency basis. '\n"
     ]
    },
    {
     "name": "stdout",
     "output_type": "stream",
     "text": [
      "../AudioData/UrbanSound/children_playing/156200.wav\n",
      "../AudioData/UrbanSound/children_playing/156200.wav\n",
      "../AudioData/UrbanSound/children_playing/196072.wav\n",
      "../AudioData/UrbanSound/children_playing/196072.wav\n",
      "../AudioData/UrbanSound/children_playing/196058.wav\n",
      "../AudioData/UrbanSound/children_playing/196058.wav\n",
      "../AudioData/UrbanSound/children_playing/196064.wav\n",
      "../AudioData/UrbanSound/children_playing/196064.wav\n",
      "../AudioData/UrbanSound/children_playing/196082.wav\n",
      "../AudioData/UrbanSound/children_playing/196082.wav\n",
      "../AudioData/UrbanSound/children_playing/196069.wav\n",
      "../AudioData/UrbanSound/children_playing/196069.wav\n",
      "../AudioData/UrbanSound/children_playing/196057.wav\n",
      "../AudioData/UrbanSound/children_playing/196057.wav\n",
      "../AudioData/UrbanSound/children_playing/196080.wav\n",
      "../AudioData/UrbanSound/children_playing/196080.wav\n",
      "../AudioData/UrbanSound/children_playing/196061.wav\n",
      "../AudioData/UrbanSound/children_playing/196061.wav\n",
      "../AudioData/UrbanSound/children_playing/196075.wav\n",
      "../AudioData/UrbanSound/children_playing/196075.wav\n",
      "../AudioData/UrbanSound/children_playing/196074.wav\n",
      "../AudioData/UrbanSound/children_playing/196074.wav\n",
      "../AudioData/UrbanSound/children_playing/196060.wav\n",
      "../AudioData/UrbanSound/children_playing/196060.wav\n",
      "../AudioData/UrbanSound/children_playing/196071.wav\n",
      "../AudioData/UrbanSound/children_playing/196071.wav\n",
      "../AudioData/UrbanSound/children_playing/196065.wav\n",
      "../AudioData/UrbanSound/children_playing/196065.wav\n",
      "../AudioData/UrbanSound/children_playing/196073.wav\n",
      "../AudioData/UrbanSound/children_playing/196073.wav\n"
     ]
    },
    {
     "name": "stderr",
     "output_type": "stream",
     "text": [
      "/Library/Frameworks/Python.framework/Versions/3.7/lib/python3.7/site-packages/librosa/filters.py:221: UserWarning: Empty filters detected in mel frequency basis. Some channels will produce empty responses. Try increasing your sampling rate (and fmax) or reducing n_mels.\n",
      "  warnings.warn('Empty filters detected in mel frequency basis. '\n"
     ]
    },
    {
     "name": "stdout",
     "output_type": "stream",
     "text": [
      "../AudioData/UrbanSound/children_playing/196062.wav\n",
      "../AudioData/UrbanSound/children_playing/196062.wav\n",
      "../AudioData/UrbanSound/children_playing/196088.wav\n",
      "../AudioData/UrbanSound/children_playing/196088.wav\n",
      "../AudioData/UrbanSound/children_playing/196076.wav\n",
      "../AudioData/UrbanSound/children_playing/196076.wav\n"
     ]
    },
    {
     "name": "stderr",
     "output_type": "stream",
     "text": [
      "/Library/Frameworks/Python.framework/Versions/3.7/lib/python3.7/site-packages/librosa/filters.py:221: UserWarning: Empty filters detected in mel frequency basis. Some channels will produce empty responses. Try increasing your sampling rate (and fmax) or reducing n_mels.\n",
      "  warnings.warn('Empty filters detected in mel frequency basis. '\n",
      "/Library/Frameworks/Python.framework/Versions/3.7/lib/python3.7/site-packages/librosa/filters.py:221: UserWarning: Empty filters detected in mel frequency basis. Some channels will produce empty responses. Try increasing your sampling rate (and fmax) or reducing n_mels.\n",
      "  warnings.warn('Empty filters detected in mel frequency basis. '\n"
     ]
    },
    {
     "name": "stdout",
     "output_type": "stream",
     "text": [
      "Finished this class. Going to the next\n"
     ]
    },
    {
     "name": "stderr",
     "output_type": "stream",
     "text": [
      "/Library/Frameworks/Python.framework/Versions/3.7/lib/python3.7/site-packages/librosa/filters.py:221: UserWarning: Empty filters detected in mel frequency basis. Some channels will produce empty responses. Try increasing your sampling rate (and fmax) or reducing n_mels.\n",
      "  warnings.warn('Empty filters detected in mel frequency basis. '\n"
     ]
    },
    {
     "name": "stdout",
     "output_type": "stream",
     "text": [
      "../AudioData/UrbanSound/air_conditioner/202517.wav\n"
     ]
    },
    {
     "name": "stderr",
     "output_type": "stream",
     "text": [
      "/Library/Frameworks/Python.framework/Versions/3.7/lib/python3.7/site-packages/librosa/filters.py:221: UserWarning: Empty filters detected in mel frequency basis. Some channels will produce empty responses. Try increasing your sampling rate (and fmax) or reducing n_mels.\n",
      "  warnings.warn('Empty filters detected in mel frequency basis. '\n",
      "/Library/Frameworks/Python.framework/Versions/3.7/lib/python3.7/site-packages/librosa/filters.py:221: UserWarning: Empty filters detected in mel frequency basis. Some channels will produce empty responses. Try increasing your sampling rate (and fmax) or reducing n_mels.\n",
      "  warnings.warn('Empty filters detected in mel frequency basis. '\n",
      "/Library/Frameworks/Python.framework/Versions/3.7/lib/python3.7/site-packages/librosa/filters.py:221: UserWarning: Empty filters detected in mel frequency basis. Some channels will produce empty responses. Try increasing your sampling rate (and fmax) or reducing n_mels.\n",
      "  warnings.warn('Empty filters detected in mel frequency basis. '\n",
      "/Library/Frameworks/Python.framework/Versions/3.7/lib/python3.7/site-packages/librosa/filters.py:221: UserWarning: Empty filters detected in mel frequency basis. Some channels will produce empty responses. Try increasing your sampling rate (and fmax) or reducing n_mels.\n",
      "  warnings.warn('Empty filters detected in mel frequency basis. '\n",
      "/Library/Frameworks/Python.framework/Versions/3.7/lib/python3.7/site-packages/librosa/filters.py:221: UserWarning: Empty filters detected in mel frequency basis. Some channels will produce empty responses. Try increasing your sampling rate (and fmax) or reducing n_mels.\n",
      "  warnings.warn('Empty filters detected in mel frequency basis. '\n",
      "/Library/Frameworks/Python.framework/Versions/3.7/lib/python3.7/site-packages/librosa/filters.py:221: UserWarning: Empty filters detected in mel frequency basis. Some channels will produce empty responses. Try increasing your sampling rate (and fmax) or reducing n_mels.\n",
      "  warnings.warn('Empty filters detected in mel frequency basis. '\n",
      "/Library/Frameworks/Python.framework/Versions/3.7/lib/python3.7/site-packages/librosa/filters.py:221: UserWarning: Empty filters detected in mel frequency basis. Some channels will produce empty responses. Try increasing your sampling rate (and fmax) or reducing n_mels.\n",
      "  warnings.warn('Empty filters detected in mel frequency basis. '\n",
      "/Library/Frameworks/Python.framework/Versions/3.7/lib/python3.7/site-packages/librosa/filters.py:221: UserWarning: Empty filters detected in mel frequency basis. Some channels will produce empty responses. Try increasing your sampling rate (and fmax) or reducing n_mels.\n",
      "  warnings.warn('Empty filters detected in mel frequency basis. '\n",
      "/Library/Frameworks/Python.framework/Versions/3.7/lib/python3.7/site-packages/librosa/filters.py:221: UserWarning: Empty filters detected in mel frequency basis. Some channels will produce empty responses. Try increasing your sampling rate (and fmax) or reducing n_mels.\n",
      "  warnings.warn('Empty filters detected in mel frequency basis. '\n",
      "/Library/Frameworks/Python.framework/Versions/3.7/lib/python3.7/site-packages/librosa/filters.py:221: UserWarning: Empty filters detected in mel frequency basis. Some channels will produce empty responses. Try increasing your sampling rate (and fmax) or reducing n_mels.\n",
      "  warnings.warn('Empty filters detected in mel frequency basis. '\n"
     ]
    },
    {
     "name": "stdout",
     "output_type": "stream",
     "text": [
      "../AudioData/UrbanSound/air_conditioner/170245.wav\n",
      "../AudioData/UrbanSound/air_conditioner/170245.wav\n"
     ]
    },
    {
     "name": "stderr",
     "output_type": "stream",
     "text": [
      "/Library/Frameworks/Python.framework/Versions/3.7/lib/python3.7/site-packages/librosa/filters.py:221: UserWarning: Empty filters detected in mel frequency basis. Some channels will produce empty responses. Try increasing your sampling rate (and fmax) or reducing n_mels.\n",
      "  warnings.warn('Empty filters detected in mel frequency basis. '\n"
     ]
    },
    {
     "name": "stdout",
     "output_type": "stream",
     "text": [
      "../AudioData/UrbanSound/air_conditioner/127872.wav\n",
      "../AudioData/UrbanSound/air_conditioner/127873.wav\n"
     ]
    },
    {
     "name": "stderr",
     "output_type": "stream",
     "text": [
      "/Library/Frameworks/Python.framework/Versions/3.7/lib/python3.7/site-packages/librosa/filters.py:221: UserWarning: Empty filters detected in mel frequency basis. Some channels will produce empty responses. Try increasing your sampling rate (and fmax) or reducing n_mels.\n",
      "  warnings.warn('Empty filters detected in mel frequency basis. '\n",
      "/Library/Frameworks/Python.framework/Versions/3.7/lib/python3.7/site-packages/librosa/filters.py:221: UserWarning: Empty filters detected in mel frequency basis. Some channels will produce empty responses. Try increasing your sampling rate (and fmax) or reducing n_mels.\n",
      "  warnings.warn('Empty filters detected in mel frequency basis. '\n",
      "/Library/Frameworks/Python.framework/Versions/3.7/lib/python3.7/site-packages/librosa/filters.py:221: UserWarning: Empty filters detected in mel frequency basis. Some channels will produce empty responses. Try increasing your sampling rate (and fmax) or reducing n_mels.\n",
      "  warnings.warn('Empty filters detected in mel frequency basis. '\n",
      "/Library/Frameworks/Python.framework/Versions/3.7/lib/python3.7/site-packages/librosa/filters.py:221: UserWarning: Empty filters detected in mel frequency basis. Some channels will produce empty responses. Try increasing your sampling rate (and fmax) or reducing n_mels.\n",
      "  warnings.warn('Empty filters detected in mel frequency basis. '\n",
      "/Library/Frameworks/Python.framework/Versions/3.7/lib/python3.7/site-packages/librosa/filters.py:221: UserWarning: Empty filters detected in mel frequency basis. Some channels will produce empty responses. Try increasing your sampling rate (and fmax) or reducing n_mels.\n",
      "  warnings.warn('Empty filters detected in mel frequency basis. '\n"
     ]
    },
    {
     "name": "stdout",
     "output_type": "stream",
     "text": [
      "Finished this class. Going to the next\n"
     ]
    },
    {
     "name": "stderr",
     "output_type": "stream",
     "text": [
      "/Library/Frameworks/Python.framework/Versions/3.7/lib/python3.7/site-packages/librosa/filters.py:221: UserWarning: Empty filters detected in mel frequency basis. Some channels will produce empty responses. Try increasing your sampling rate (and fmax) or reducing n_mels.\n",
      "  warnings.warn('Empty filters detected in mel frequency basis. '\n"
     ]
    },
    {
     "name": "stdout",
     "output_type": "stream",
     "text": [
      "../AudioData/UrbanSound/dog_bark/118962.wav\n"
     ]
    },
    {
     "name": "stderr",
     "output_type": "stream",
     "text": [
      "/Library/Frameworks/Python.framework/Versions/3.7/lib/python3.7/site-packages/librosa/filters.py:221: UserWarning: Empty filters detected in mel frequency basis. Some channels will produce empty responses. Try increasing your sampling rate (and fmax) or reducing n_mels.\n",
      "  warnings.warn('Empty filters detected in mel frequency basis. '\n"
     ]
    },
    {
     "name": "stdout",
     "output_type": "stream",
     "text": [
      "../AudioData/UrbanSound/dog_bark/118962.wav\n",
      "../AudioData/UrbanSound/dog_bark/24965.wav\n"
     ]
    },
    {
     "name": "stderr",
     "output_type": "stream",
     "text": [
      "/Library/Frameworks/Python.framework/Versions/3.7/lib/python3.7/site-packages/librosa/filters.py:221: UserWarning: Empty filters detected in mel frequency basis. Some channels will produce empty responses. Try increasing your sampling rate (and fmax) or reducing n_mels.\n",
      "  warnings.warn('Empty filters detected in mel frequency basis. '\n",
      "/Library/Frameworks/Python.framework/Versions/3.7/lib/python3.7/site-packages/librosa/filters.py:221: UserWarning: Empty filters detected in mel frequency basis. Some channels will produce empty responses. Try increasing your sampling rate (and fmax) or reducing n_mels.\n",
      "  warnings.warn('Empty filters detected in mel frequency basis. '\n",
      "/Library/Frameworks/Python.framework/Versions/3.7/lib/python3.7/site-packages/librosa/filters.py:221: UserWarning: Empty filters detected in mel frequency basis. Some channels will produce empty responses. Try increasing your sampling rate (and fmax) or reducing n_mels.\n",
      "  warnings.warn('Empty filters detected in mel frequency basis. '\n",
      "/Library/Frameworks/Python.framework/Versions/3.7/lib/python3.7/site-packages/librosa/filters.py:221: UserWarning: Empty filters detected in mel frequency basis. Some channels will produce empty responses. Try increasing your sampling rate (and fmax) or reducing n_mels.\n",
      "  warnings.warn('Empty filters detected in mel frequency basis. '\n",
      "/Library/Frameworks/Python.framework/Versions/3.7/lib/python3.7/site-packages/librosa/filters.py:221: UserWarning: Empty filters detected in mel frequency basis. Some channels will produce empty responses. Try increasing your sampling rate (and fmax) or reducing n_mels.\n",
      "  warnings.warn('Empty filters detected in mel frequency basis. '\n"
     ]
    },
    {
     "name": "stdout",
     "output_type": "stream",
     "text": [
      "../AudioData/UrbanSound/dog_bark/170015.wav\n",
      "../AudioData/UrbanSound/dog_bark/170015.wav\n"
     ]
    },
    {
     "name": "stderr",
     "output_type": "stream",
     "text": [
      "/Library/Frameworks/Python.framework/Versions/3.7/lib/python3.7/site-packages/librosa/filters.py:221: UserWarning: Empty filters detected in mel frequency basis. Some channels will produce empty responses. Try increasing your sampling rate (and fmax) or reducing n_mels.\n",
      "  warnings.warn('Empty filters detected in mel frequency basis. '\n"
     ]
    },
    {
     "name": "stdout",
     "output_type": "stream",
     "text": [
      "../AudioData/UrbanSound/dog_bark/89213.wav\n",
      "../AudioData/UrbanSound/dog_bark/89207.wav\n",
      "../AudioData/UrbanSound/dog_bark/89207.wav\n"
     ]
    },
    {
     "name": "stderr",
     "output_type": "stream",
     "text": [
      "/Library/Frameworks/Python.framework/Versions/3.7/lib/python3.7/site-packages/librosa/filters.py:221: UserWarning: Empty filters detected in mel frequency basis. Some channels will produce empty responses. Try increasing your sampling rate (and fmax) or reducing n_mels.\n",
      "  warnings.warn('Empty filters detected in mel frequency basis. '\n",
      "/Library/Frameworks/Python.framework/Versions/3.7/lib/python3.7/site-packages/librosa/filters.py:221: UserWarning: Empty filters detected in mel frequency basis. Some channels will produce empty responses. Try increasing your sampling rate (and fmax) or reducing n_mels.\n",
      "  warnings.warn('Empty filters detected in mel frequency basis. '\n",
      "/Library/Frameworks/Python.framework/Versions/3.7/lib/python3.7/site-packages/librosa/filters.py:221: UserWarning: Empty filters detected in mel frequency basis. Some channels will produce empty responses. Try increasing your sampling rate (and fmax) or reducing n_mels.\n",
      "  warnings.warn('Empty filters detected in mel frequency basis. '\n",
      "/Library/Frameworks/Python.framework/Versions/3.7/lib/python3.7/site-packages/librosa/filters.py:221: UserWarning: Empty filters detected in mel frequency basis. Some channels will produce empty responses. Try increasing your sampling rate (and fmax) or reducing n_mels.\n",
      "  warnings.warn('Empty filters detected in mel frequency basis. '\n"
     ]
    },
    {
     "name": "stdout",
     "output_type": "stream",
     "text": [
      "../AudioData/UrbanSound/dog_bark/110134.wav\n",
      "../AudioData/UrbanSound/dog_bark/110134.wav\n",
      "../AudioData/UrbanSound/dog_bark/89211.wav\n",
      "../AudioData/UrbanSound/dog_bark/89211.wav\n"
     ]
    },
    {
     "name": "stderr",
     "output_type": "stream",
     "text": [
      "/Library/Frameworks/Python.framework/Versions/3.7/lib/python3.7/site-packages/librosa/filters.py:221: UserWarning: Empty filters detected in mel frequency basis. Some channels will produce empty responses. Try increasing your sampling rate (and fmax) or reducing n_mels.\n",
      "  warnings.warn('Empty filters detected in mel frequency basis. '\n"
     ]
    },
    {
     "name": "stdout",
     "output_type": "stream",
     "text": [
      "../AudioData/UrbanSound/dog_bark/130030.wav\n",
      "../AudioData/UrbanSound/dog_bark/118964.wav\n",
      "../AudioData/UrbanSound/dog_bark/118964.wav\n",
      "../AudioData/UrbanSound/dog_bark/86279.wav\n",
      "../AudioData/UrbanSound/dog_bark/86279.wav\n"
     ]
    },
    {
     "name": "stderr",
     "output_type": "stream",
     "text": [
      "/Library/Frameworks/Python.framework/Versions/3.7/lib/python3.7/site-packages/librosa/filters.py:221: UserWarning: Empty filters detected in mel frequency basis. Some channels will produce empty responses. Try increasing your sampling rate (and fmax) or reducing n_mels.\n",
      "  warnings.warn('Empty filters detected in mel frequency basis. '\n",
      "/Library/Frameworks/Python.framework/Versions/3.7/lib/python3.7/site-packages/librosa/filters.py:221: UserWarning: Empty filters detected in mel frequency basis. Some channels will produce empty responses. Try increasing your sampling rate (and fmax) or reducing n_mels.\n",
      "  warnings.warn('Empty filters detected in mel frequency basis. '\n"
     ]
    },
    {
     "name": "stdout",
     "output_type": "stream",
     "text": [
      "../AudioData/UrbanSound/dog_bark/9032.wav\n",
      "../AudioData/UrbanSound/dog_bark/89212.wav\n",
      "../AudioData/UrbanSound/dog_bark/89212.wav\n",
      "../AudioData/UrbanSound/dog_bark/118961.wav\n",
      "../AudioData/UrbanSound/dog_bark/118961.wav\n",
      "../AudioData/UrbanSound/dog_bark/162148.wav\n",
      "../AudioData/UrbanSound/dog_bark/162148.wav\n",
      "../AudioData/UrbanSound/dog_bark/155294.wav\n",
      "../AudioData/UrbanSound/dog_bark/155294.wav\n",
      "../AudioData/UrbanSound/dog_bark/125574.wav\n",
      "../AudioData/UrbanSound/dog_bark/125574.wav\n",
      "../AudioData/UrbanSound/dog_bark/50612.wav\n",
      "../AudioData/UrbanSound/dog_bark/38121.wav\n",
      "../AudioData/UrbanSound/dog_bark/38121.wav\n",
      "../AudioData/UrbanSound/dog_bark/89210.wav\n",
      "../AudioData/UrbanSound/dog_bark/89210.wav\n",
      "../AudioData/UrbanSound/dog_bark/118963.wav\n",
      "../AudioData/UrbanSound/dog_bark/118963.wav\n"
     ]
    },
    {
     "name": "stderr",
     "output_type": "stream",
     "text": [
      "/Library/Frameworks/Python.framework/Versions/3.7/lib/python3.7/site-packages/librosa/filters.py:221: UserWarning: Empty filters detected in mel frequency basis. Some channels will produce empty responses. Try increasing your sampling rate (and fmax) or reducing n_mels.\n",
      "  warnings.warn('Empty filters detected in mel frequency basis. '\n"
     ]
    },
    {
     "name": "stdout",
     "output_type": "stream",
     "text": [
      "../AudioData/UrbanSound/dog_bark/50614.wav\n"
     ]
    },
    {
     "name": "stderr",
     "output_type": "stream",
     "text": [
      "/Library/Frameworks/Python.framework/Versions/3.7/lib/python3.7/site-packages/librosa/filters.py:221: UserWarning: Empty filters detected in mel frequency basis. Some channels will produce empty responses. Try increasing your sampling rate (and fmax) or reducing n_mels.\n",
      "  warnings.warn('Empty filters detected in mel frequency basis. '\n"
     ]
    },
    {
     "name": "stdout",
     "output_type": "stream",
     "text": [
      "../AudioData/UrbanSound/dog_bark/155309.wav\n"
     ]
    },
    {
     "name": "stderr",
     "output_type": "stream",
     "text": [
      "/Library/Frameworks/Python.framework/Versions/3.7/lib/python3.7/site-packages/ipykernel_launcher.py:33: RuntimeWarning: invalid value encountered in true_divide\n"
     ]
    },
    {
     "name": "stdout",
     "output_type": "stream",
     "text": [
      "../AudioData/UrbanSound/dog_bark/131199.wav\n",
      "../AudioData/UrbanSound/dog_bark/131199.wav\n",
      "../AudioData/UrbanSound/dog_bark/72723.mp3\n",
      "../AudioData/UrbanSound/dog_bark/72723.mp3\n"
     ]
    },
    {
     "name": "stderr",
     "output_type": "stream",
     "text": [
      "/Library/Frameworks/Python.framework/Versions/3.7/lib/python3.7/site-packages/librosa/filters.py:221: UserWarning: Empty filters detected in mel frequency basis. Some channels will produce empty responses. Try increasing your sampling rate (and fmax) or reducing n_mels.\n",
      "  warnings.warn('Empty filters detected in mel frequency basis. '\n",
      "/Library/Frameworks/Python.framework/Versions/3.7/lib/python3.7/site-packages/librosa/filters.py:221: UserWarning: Empty filters detected in mel frequency basis. Some channels will produce empty responses. Try increasing your sampling rate (and fmax) or reducing n_mels.\n",
      "  warnings.warn('Empty filters detected in mel frequency basis. '\n"
     ]
    },
    {
     "name": "stdout",
     "output_type": "stream",
     "text": [
      "../AudioData/UrbanSound/dog_bark/147672.mp3\n"
     ]
    },
    {
     "name": "stderr",
     "output_type": "stream",
     "text": [
      "/Library/Frameworks/Python.framework/Versions/3.7/lib/python3.7/site-packages/librosa/filters.py:221: UserWarning: Empty filters detected in mel frequency basis. Some channels will produce empty responses. Try increasing your sampling rate (and fmax) or reducing n_mels.\n",
      "  warnings.warn('Empty filters detected in mel frequency basis. '\n"
     ]
    },
    {
     "name": "stdout",
     "output_type": "stream",
     "text": [
      "../AudioData/UrbanSound/dog_bark/110389.wav\n",
      "../AudioData/UrbanSound/dog_bark/110389.wav\n"
     ]
    },
    {
     "name": "stderr",
     "output_type": "stream",
     "text": [
      "/Library/Frameworks/Python.framework/Versions/3.7/lib/python3.7/site-packages/librosa/filters.py:221: UserWarning: Empty filters detected in mel frequency basis. Some channels will produce empty responses. Try increasing your sampling rate (and fmax) or reducing n_mels.\n",
      "  warnings.warn('Empty filters detected in mel frequency basis. '\n"
     ]
    },
    {
     "name": "stdout",
     "output_type": "stream",
     "text": [
      "../AudioData/UrbanSound/dog_bark/76640.wav\n",
      "../AudioData/UrbanSound/dog_bark/107190.wav\n",
      "../AudioData/UrbanSound/dog_bark/107190.wav\n",
      "../AudioData/UrbanSound/dog_bark/100032.wav\n",
      "../AudioData/UrbanSound/dog_bark/100032.wav\n",
      "../AudioData/UrbanSound/dog_bark/159176.wav\n",
      "../AudioData/UrbanSound/dog_bark/155320.wav\n",
      "../AudioData/UrbanSound/dog_bark/160092.wav\n",
      "../AudioData/UrbanSound/dog_bark/160092.wav\n"
     ]
    },
    {
     "name": "stderr",
     "output_type": "stream",
     "text": [
      "/Library/Frameworks/Python.framework/Versions/3.7/lib/python3.7/site-packages/librosa/filters.py:221: UserWarning: Empty filters detected in mel frequency basis. Some channels will produce empty responses. Try increasing your sampling rate (and fmax) or reducing n_mels.\n",
      "  warnings.warn('Empty filters detected in mel frequency basis. '\n"
     ]
    },
    {
     "name": "stdout",
     "output_type": "stream",
     "text": [
      "../AudioData/UrbanSound/dog_bark/166268.wav\n",
      "../AudioData/UrbanSound/dog_bark/166268.wav\n"
     ]
    },
    {
     "name": "stderr",
     "output_type": "stream",
     "text": [
      "/Library/Frameworks/Python.framework/Versions/3.7/lib/python3.7/site-packages/librosa/filters.py:221: UserWarning: Empty filters detected in mel frequency basis. Some channels will produce empty responses. Try increasing your sampling rate (and fmax) or reducing n_mels.\n",
      "  warnings.warn('Empty filters detected in mel frequency basis. '\n"
     ]
    },
    {
     "name": "stdout",
     "output_type": "stream",
     "text": [
      "../AudioData/UrbanSound/dog_bark/155311.wav\n",
      "../AudioData/UrbanSound/dog_bark/116163.wav\n",
      "../AudioData/UrbanSound/dog_bark/102102.wav\n",
      "../AudioData/UrbanSound/dog_bark/102102.wav\n",
      "../AudioData/UrbanSound/dog_bark/125554.wav\n",
      "../AudioData/UrbanSound/dog_bark/125554.wav\n",
      "../AudioData/UrbanSound/dog_bark/97392.wav\n",
      "../AudioData/UrbanSound/dog_bark/97392.wav\n",
      "../AudioData/UrbanSound/dog_bark/85662.mp3\n",
      "../AudioData/UrbanSound/dog_bark/85662.mp3\n",
      "../AudioData/UrbanSound/dog_bark/85663.mp3\n",
      "../AudioData/UrbanSound/dog_bark/85663.mp3\n",
      "../AudioData/UrbanSound/dog_bark/85661.mp3\n",
      "../AudioData/UrbanSound/dog_bark/85661.mp3\n",
      "../AudioData/UrbanSound/dog_bark/160093.wav\n",
      "../AudioData/UrbanSound/dog_bark/160093.wav\n",
      "../AudioData/UrbanSound/dog_bark/115535.wav\n"
     ]
    },
    {
     "name": "stderr",
     "output_type": "stream",
     "text": [
      "/Library/Frameworks/Python.framework/Versions/3.7/lib/python3.7/site-packages/librosa/filters.py:221: UserWarning: Empty filters detected in mel frequency basis. Some channels will produce empty responses. Try increasing your sampling rate (and fmax) or reducing n_mels.\n",
      "  warnings.warn('Empty filters detected in mel frequency basis. '\n"
     ]
    },
    {
     "name": "stdout",
     "output_type": "stream",
     "text": [
      "../AudioData/UrbanSound/dog_bark/50613.wav\n",
      "../AudioData/UrbanSound/dog_bark/113785.wav\n",
      "../AudioData/UrbanSound/dog_bark/155313.wav\n",
      "../AudioData/UrbanSound/dog_bark/160094.wav\n",
      "../AudioData/UrbanSound/dog_bark/160094.wav\n",
      "../AudioData/UrbanSound/dog_bark/43784.mp3\n",
      "../AudioData/UrbanSound/dog_bark/43784.mp3\n",
      "../AudioData/UrbanSound/dog_bark/155310.wav\n",
      "../AudioData/UrbanSound/dog_bark/121888.wav\n",
      "../AudioData/UrbanSound/dog_bark/115536.wav\n",
      "../AudioData/UrbanSound/dog_bark/4912.wav\n",
      "../AudioData/UrbanSound/dog_bark/4912.wav\n",
      "../AudioData/UrbanSound/dog_bark/89209.wav\n",
      "../AudioData/UrbanSound/dog_bark/89209.wav\n",
      "../AudioData/UrbanSound/dog_bark/163459.wav\n",
      "../AudioData/UrbanSound/dog_bark/163459.wav\n",
      "../AudioData/UrbanSound/dog_bark/118072.wav\n",
      "../AudioData/UrbanSound/dog_bark/118072.wav\n",
      "../AudioData/UrbanSound/dog_bark/84317.wav\n",
      "../AudioData/UrbanSound/dog_bark/84317.wav\n",
      "../AudioData/UrbanSound/dog_bark/197243.wav\n",
      "../AudioData/UrbanSound/dog_bark/4910.wav\n",
      "../AudioData/UrbanSound/dog_bark/4910.wav\n",
      "../AudioData/UrbanSound/dog_bark/155315.wav\n",
      "../AudioData/UrbanSound/dog_bark/142641.wav\n",
      "../AudioData/UrbanSound/dog_bark/99185.wav\n",
      "../AudioData/UrbanSound/dog_bark/157950.wav\n",
      "../AudioData/UrbanSound/dog_bark/157950.wav\n",
      "../AudioData/UrbanSound/dog_bark/11722.wav\n",
      "../AudioData/UrbanSound/dog_bark/11722.wav\n",
      "../AudioData/UrbanSound/dog_bark/144885.mp3\n",
      "../AudioData/UrbanSound/dog_bark/144885.mp3\n",
      "../AudioData/UrbanSound/dog_bark/4911.wav\n",
      "../AudioData/UrbanSound/dog_bark/4911.wav\n",
      "../AudioData/UrbanSound/dog_bark/85664.mp3\n",
      "../AudioData/UrbanSound/dog_bark/85664.mp3\n",
      "../AudioData/UrbanSound/dog_bark/85665.mp3\n",
      "../AudioData/UrbanSound/dog_bark/85665.mp3\n",
      "../AudioData/UrbanSound/dog_bark/102106.wav\n",
      "../AudioData/UrbanSound/dog_bark/102106.wav\n",
      "Finished this class. Going to the next\n"
     ]
    },
    {
     "name": "stderr",
     "output_type": "stream",
     "text": [
      "/Library/Frameworks/Python.framework/Versions/3.7/lib/python3.7/site-packages/librosa/filters.py:221: UserWarning: Empty filters detected in mel frequency basis. Some channels will produce empty responses. Try increasing your sampling rate (and fmax) or reducing n_mels.\n",
      "  warnings.warn('Empty filters detected in mel frequency basis. '\n",
      "/Library/Frameworks/Python.framework/Versions/3.7/lib/python3.7/site-packages/librosa/filters.py:221: UserWarning: Empty filters detected in mel frequency basis. Some channels will produce empty responses. Try increasing your sampling rate (and fmax) or reducing n_mels.\n",
      "  warnings.warn('Empty filters detected in mel frequency basis. '\n",
      "/Library/Frameworks/Python.framework/Versions/3.7/lib/python3.7/site-packages/librosa/filters.py:221: UserWarning: Empty filters detected in mel frequency basis. Some channels will produce empty responses. Try increasing your sampling rate (and fmax) or reducing n_mels.\n",
      "  warnings.warn('Empty filters detected in mel frequency basis. '\n",
      "/Library/Frameworks/Python.framework/Versions/3.7/lib/python3.7/site-packages/librosa/filters.py:221: UserWarning: Empty filters detected in mel frequency basis. Some channels will produce empty responses. Try increasing your sampling rate (and fmax) or reducing n_mels.\n",
      "  warnings.warn('Empty filters detected in mel frequency basis. '\n",
      "/Library/Frameworks/Python.framework/Versions/3.7/lib/python3.7/site-packages/librosa/filters.py:221: UserWarning: Empty filters detected in mel frequency basis. Some channels will produce empty responses. Try increasing your sampling rate (and fmax) or reducing n_mels.\n",
      "  warnings.warn('Empty filters detected in mel frequency basis. '\n",
      "/Library/Frameworks/Python.framework/Versions/3.7/lib/python3.7/site-packages/librosa/filters.py:221: UserWarning: Empty filters detected in mel frequency basis. Some channels will produce empty responses. Try increasing your sampling rate (and fmax) or reducing n_mels.\n",
      "  warnings.warn('Empty filters detected in mel frequency basis. '\n",
      "/Library/Frameworks/Python.framework/Versions/3.7/lib/python3.7/site-packages/librosa/filters.py:221: UserWarning: Empty filters detected in mel frequency basis. Some channels will produce empty responses. Try increasing your sampling rate (and fmax) or reducing n_mels.\n",
      "  warnings.warn('Empty filters detected in mel frequency basis. '\n",
      "/Library/Frameworks/Python.framework/Versions/3.7/lib/python3.7/site-packages/librosa/filters.py:221: UserWarning: Empty filters detected in mel frequency basis. Some channels will produce empty responses. Try increasing your sampling rate (and fmax) or reducing n_mels.\n",
      "  warnings.warn('Empty filters detected in mel frequency basis. '\n",
      "/Library/Frameworks/Python.framework/Versions/3.7/lib/python3.7/site-packages/librosa/filters.py:221: UserWarning: Empty filters detected in mel frequency basis. Some channels will produce empty responses. Try increasing your sampling rate (and fmax) or reducing n_mels.\n",
      "  warnings.warn('Empty filters detected in mel frequency basis. '\n",
      "/Library/Frameworks/Python.framework/Versions/3.7/lib/python3.7/site-packages/librosa/filters.py:221: UserWarning: Empty filters detected in mel frequency basis. Some channels will produce empty responses. Try increasing your sampling rate (and fmax) or reducing n_mels.\n",
      "  warnings.warn('Empty filters detected in mel frequency basis. '\n"
     ]
    },
    {
     "name": "stdout",
     "output_type": "stream",
     "text": [
      "../AudioData/UrbanSound/engine_idling/186938.wav\n",
      "../AudioData/UrbanSound/engine_idling/186938.wav\n"
     ]
    },
    {
     "name": "stderr",
     "output_type": "stream",
     "text": [
      "/Library/Frameworks/Python.framework/Versions/3.7/lib/python3.7/site-packages/librosa/filters.py:221: UserWarning: Empty filters detected in mel frequency basis. Some channels will produce empty responses. Try increasing your sampling rate (and fmax) or reducing n_mels.\n",
      "  warnings.warn('Empty filters detected in mel frequency basis. '\n",
      "/Library/Frameworks/Python.framework/Versions/3.7/lib/python3.7/site-packages/librosa/filters.py:221: UserWarning: Empty filters detected in mel frequency basis. Some channels will produce empty responses. Try increasing your sampling rate (and fmax) or reducing n_mels.\n",
      "  warnings.warn('Empty filters detected in mel frequency basis. '\n",
      "/Library/Frameworks/Python.framework/Versions/3.7/lib/python3.7/site-packages/librosa/filters.py:221: UserWarning: Empty filters detected in mel frequency basis. Some channels will produce empty responses. Try increasing your sampling rate (and fmax) or reducing n_mels.\n",
      "  warnings.warn('Empty filters detected in mel frequency basis. '\n",
      "/Library/Frameworks/Python.framework/Versions/3.7/lib/python3.7/site-packages/librosa/filters.py:221: UserWarning: Empty filters detected in mel frequency basis. Some channels will produce empty responses. Try increasing your sampling rate (and fmax) or reducing n_mels.\n",
      "  warnings.warn('Empty filters detected in mel frequency basis. '\n"
     ]
    },
    {
     "name": "stdout",
     "output_type": "stream",
     "text": [
      "../AudioData/UrbanSound/engine_idling/50455.wav\n",
      "../AudioData/UrbanSound/engine_idling/50455.wav\n"
     ]
    },
    {
     "name": "stderr",
     "output_type": "stream",
     "text": [
      "/Library/Frameworks/Python.framework/Versions/3.7/lib/python3.7/site-packages/librosa/filters.py:221: UserWarning: Empty filters detected in mel frequency basis. Some channels will produce empty responses. Try increasing your sampling rate (and fmax) or reducing n_mels.\n",
      "  warnings.warn('Empty filters detected in mel frequency basis. '\n"
     ]
    },
    {
     "name": "stdout",
     "output_type": "stream",
     "text": [
      "../AudioData/UrbanSound/engine_idling/50898.wav\n",
      "../AudioData/UrbanSound/engine_idling/50454.wav\n",
      "../AudioData/UrbanSound/engine_idling/50454.wav\n"
     ]
    },
    {
     "name": "stderr",
     "output_type": "stream",
     "text": [
      "/Library/Frameworks/Python.framework/Versions/3.7/lib/python3.7/site-packages/librosa/filters.py:221: UserWarning: Empty filters detected in mel frequency basis. Some channels will produce empty responses. Try increasing your sampling rate (and fmax) or reducing n_mels.\n",
      "  warnings.warn('Empty filters detected in mel frequency basis. '\n"
     ]
    },
    {
     "name": "stdout",
     "output_type": "stream",
     "text": [
      "../AudioData/UrbanSound/engine_idling/186940.wav\n",
      "../AudioData/UrbanSound/engine_idling/186940.wav\n",
      "../AudioData/UrbanSound/engine_idling/21187.wav\n",
      "../AudioData/UrbanSound/engine_idling/21187.wav\n"
     ]
    },
    {
     "name": "stderr",
     "output_type": "stream",
     "text": [
      "/Library/Frameworks/Python.framework/Versions/3.7/lib/python3.7/site-packages/librosa/filters.py:221: UserWarning: Empty filters detected in mel frequency basis. Some channels will produce empty responses. Try increasing your sampling rate (and fmax) or reducing n_mels.\n",
      "  warnings.warn('Empty filters detected in mel frequency basis. '\n",
      "/Library/Frameworks/Python.framework/Versions/3.7/lib/python3.7/site-packages/librosa/filters.py:221: UserWarning: Empty filters detected in mel frequency basis. Some channels will produce empty responses. Try increasing your sampling rate (and fmax) or reducing n_mels.\n",
      "  warnings.warn('Empty filters detected in mel frequency basis. '\n",
      "/Library/Frameworks/Python.framework/Versions/3.7/lib/python3.7/site-packages/librosa/filters.py:221: UserWarning: Empty filters detected in mel frequency basis. Some channels will produce empty responses. Try increasing your sampling rate (and fmax) or reducing n_mels.\n",
      "  warnings.warn('Empty filters detected in mel frequency basis. '\n"
     ]
    },
    {
     "name": "stdout",
     "output_type": "stream",
     "text": [
      "Finished this class. Going to the next\n"
     ]
    },
    {
     "name": "stderr",
     "output_type": "stream",
     "text": [
      "/Library/Frameworks/Python.framework/Versions/3.7/lib/python3.7/site-packages/librosa/filters.py:221: UserWarning: Empty filters detected in mel frequency basis. Some channels will produce empty responses. Try increasing your sampling rate (and fmax) or reducing n_mels.\n",
      "  warnings.warn('Empty filters detected in mel frequency basis. '\n",
      "/Library/Frameworks/Python.framework/Versions/3.7/lib/python3.7/site-packages/librosa/filters.py:221: UserWarning: Empty filters detected in mel frequency basis. Some channels will produce empty responses. Try increasing your sampling rate (and fmax) or reducing n_mels.\n",
      "  warnings.warn('Empty filters detected in mel frequency basis. '\n",
      "/Library/Frameworks/Python.framework/Versions/3.7/lib/python3.7/site-packages/librosa/filters.py:221: UserWarning: Empty filters detected in mel frequency basis. Some channels will produce empty responses. Try increasing your sampling rate (and fmax) or reducing n_mels.\n",
      "  warnings.warn('Empty filters detected in mel frequency basis. '\n",
      "/Library/Frameworks/Python.framework/Versions/3.7/lib/python3.7/site-packages/librosa/filters.py:221: UserWarning: Empty filters detected in mel frequency basis. Some channels will produce empty responses. Try increasing your sampling rate (and fmax) or reducing n_mels.\n",
      "  warnings.warn('Empty filters detected in mel frequency basis. '\n",
      "/Library/Frameworks/Python.framework/Versions/3.7/lib/python3.7/site-packages/librosa/filters.py:221: UserWarning: Empty filters detected in mel frequency basis. Some channels will produce empty responses. Try increasing your sampling rate (and fmax) or reducing n_mels.\n",
      "  warnings.warn('Empty filters detected in mel frequency basis. '\n",
      "/Library/Frameworks/Python.framework/Versions/3.7/lib/python3.7/site-packages/librosa/filters.py:221: UserWarning: Empty filters detected in mel frequency basis. Some channels will produce empty responses. Try increasing your sampling rate (and fmax) or reducing n_mels.\n",
      "  warnings.warn('Empty filters detected in mel frequency basis. '\n",
      "/Library/Frameworks/Python.framework/Versions/3.7/lib/python3.7/site-packages/librosa/filters.py:221: UserWarning: Empty filters detected in mel frequency basis. Some channels will produce empty responses. Try increasing your sampling rate (and fmax) or reducing n_mels.\n",
      "  warnings.warn('Empty filters detected in mel frequency basis. '\n",
      "/Library/Frameworks/Python.framework/Versions/3.7/lib/python3.7/site-packages/librosa/filters.py:221: UserWarning: Empty filters detected in mel frequency basis. Some channels will produce empty responses. Try increasing your sampling rate (and fmax) or reducing n_mels.\n",
      "  warnings.warn('Empty filters detected in mel frequency basis. '\n",
      "/Library/Frameworks/Python.framework/Versions/3.7/lib/python3.7/site-packages/librosa/filters.py:221: UserWarning: Empty filters detected in mel frequency basis. Some channels will produce empty responses. Try increasing your sampling rate (and fmax) or reducing n_mels.\n",
      "  warnings.warn('Empty filters detected in mel frequency basis. '\n",
      "/Library/Frameworks/Python.framework/Versions/3.7/lib/python3.7/site-packages/librosa/filters.py:221: UserWarning: Empty filters detected in mel frequency basis. Some channels will produce empty responses. Try increasing your sampling rate (and fmax) or reducing n_mels.\n",
      "  warnings.warn('Empty filters detected in mel frequency basis. '\n",
      "/Library/Frameworks/Python.framework/Versions/3.7/lib/python3.7/site-packages/librosa/filters.py:221: UserWarning: Empty filters detected in mel frequency basis. Some channels will produce empty responses. Try increasing your sampling rate (and fmax) or reducing n_mels.\n",
      "  warnings.warn('Empty filters detected in mel frequency basis. '\n"
     ]
    },
    {
     "name": "stdout",
     "output_type": "stream",
     "text": [
      "../AudioData/UrbanSound/jackhammer/88466.wav\n"
     ]
    },
    {
     "name": "stderr",
     "output_type": "stream",
     "text": [
      "/Library/Frameworks/Python.framework/Versions/3.7/lib/python3.7/site-packages/librosa/filters.py:221: UserWarning: Empty filters detected in mel frequency basis. Some channels will produce empty responses. Try increasing your sampling rate (and fmax) or reducing n_mels.\n",
      "  warnings.warn('Empty filters detected in mel frequency basis. '\n",
      "/Library/Frameworks/Python.framework/Versions/3.7/lib/python3.7/site-packages/librosa/filters.py:221: UserWarning: Empty filters detected in mel frequency basis. Some channels will produce empty responses. Try increasing your sampling rate (and fmax) or reducing n_mels.\n",
      "  warnings.warn('Empty filters detected in mel frequency basis. '\n",
      "/Library/Frameworks/Python.framework/Versions/3.7/lib/python3.7/site-packages/librosa/filters.py:221: UserWarning: Empty filters detected in mel frequency basis. Some channels will produce empty responses. Try increasing your sampling rate (and fmax) or reducing n_mels.\n",
      "  warnings.warn('Empty filters detected in mel frequency basis. '\n"
     ]
    },
    {
     "name": "stdout",
     "output_type": "stream",
     "text": [
      "Finished this class. Going to the next\n",
      "Done generating spectra!\n",
      "Notebook Done\n"
     ]
    }
   ],
   "source": [
    "ComputeSpectrograms(SOURCE_FOLDER_TRAIN,OUTPUT_FOLDER_TRAIN)\n",
    "pickle.dump(SpectrumVariables, open(os.path.join(OUTPUT_FOLDER_TRAIN,'Main.SpecVar'), \"wb\" ))\n",
    "print(\"Notebook Done\")"
   ]
  },
  {
   "cell_type": "code",
   "execution_count": null,
   "metadata": {},
   "outputs": [],
   "source": []
  },
  {
   "cell_type": "code",
   "execution_count": null,
   "metadata": {},
   "outputs": [],
   "source": []
  }
 ],
 "metadata": {
  "kernelspec": {
   "display_name": "Python 3",
   "language": "python",
   "name": "python3"
  },
  "language_info": {
   "codemirror_mode": {
    "name": "ipython",
    "version": 3
   },
   "file_extension": ".py",
   "mimetype": "text/x-python",
   "name": "python",
   "nbconvert_exporter": "python",
   "pygments_lexer": "ipython3",
   "version": "3.7.2"
  }
 },
 "nbformat": 4,
 "nbformat_minor": 2
}
